{
 "metadata": {
  "language_info": {
   "codemirror_mode": {
    "name": "ipython",
    "version": 3
   },
   "file_extension": ".py",
   "mimetype": "text/x-python",
   "name": "python",
   "nbconvert_exporter": "python",
   "pygments_lexer": "ipython3",
   "version": "3.8.3-final"
  },
  "orig_nbformat": 2,
  "kernelspec": {
   "name": "python3",
   "display_name": "Python 3"
  }
 },
 "nbformat": 4,
 "nbformat_minor": 2,
 "cells": [
  {
   "cell_type": "code",
   "execution_count": 2,
   "metadata": {},
   "outputs": [],
   "source": [
    "import pandas as pd\n",
    "pd.set_option('display.max_rows', None)\n",
    "import numpy as np\n",
    "import seaborn as sns\n",
    "import plotly.express as px\n",
    "import plotly.figure_factory as ff"
   ]
  },
  {
   "cell_type": "code",
   "execution_count": 3,
   "metadata": {},
   "outputs": [],
   "source": [
    "features = pd.read_excel('features_pontos.xlsx')"
   ]
  },
  {
   "cell_type": "code",
   "execution_count": 4,
   "metadata": {},
   "outputs": [
    {
     "output_type": "execute_result",
     "data": {
      "text/plain": [
       "             dateTime  ponto     vento      mare     chuva  temp_agua  \\\n",
       "0 2020-03-17 07:34:00     37       Sul  Enchente  Moderada       26.0   \n",
       "1 2020-10-03 07:42:00     37  Noroeste   Vazante   Ausente       23.0   \n",
       "2 2020-03-03 07:43:00     37     Leste  Enchente  Moderada       24.0   \n",
       "3 2020-02-27 07:27:00     37  Sudoeste   Vazante  Moderada       23.0   \n",
       "4 2020-02-18 07:30:00     37  Noroeste  Enchente   Ausente       25.0   \n",
       "\n",
       "   temp_ar  e_coli condicao                nome  \\\n",
       "0     22.0    86.0  PRÓPRIA  Lagoa da Conceição   \n",
       "1     23.0   269.0  PRÓPRIA  Lagoa da Conceição   \n",
       "2     22.0    30.0  PRÓPRIA  Lagoa da Conceição   \n",
       "3     19.0    10.0  PRÓPRIA  Lagoa da Conceição   \n",
       "4     25.0    20.0  PRÓPRIA  Lagoa da Conceição   \n",
       "\n",
       "                                    referencia        lat       long  \\\n",
       "0  Em frente à servidão Pedro Manoel Fernandes -27.609113 -48.444432   \n",
       "1  Em frente à servidão Pedro Manoel Fernandes -27.609113 -48.444432   \n",
       "2  Em frente à servidão Pedro Manoel Fernandes -27.609113 -48.444432   \n",
       "3  Em frente à servidão Pedro Manoel Fernandes -27.609113 -48.444432   \n",
       "4  Em frente à servidão Pedro Manoel Fernandes -27.609113 -48.444432   \n",
       "\n",
       "  agua_doce desembocadura_praia ponto_perto_desembocadura localizacao  \n",
       "0       Sim                 Não                       Não      Centro  \n",
       "1       Sim                 Não                       Não      Centro  \n",
       "2       Sim                 Não                       Não      Centro  \n",
       "3       Sim                 Não                       Não      Centro  \n",
       "4       Sim                 Não                       Não      Centro  "
      ],
      "text/html": "<div>\n<style scoped>\n    .dataframe tbody tr th:only-of-type {\n        vertical-align: middle;\n    }\n\n    .dataframe tbody tr th {\n        vertical-align: top;\n    }\n\n    .dataframe thead th {\n        text-align: right;\n    }\n</style>\n<table border=\"1\" class=\"dataframe\">\n  <thead>\n    <tr style=\"text-align: right;\">\n      <th></th>\n      <th>dateTime</th>\n      <th>ponto</th>\n      <th>vento</th>\n      <th>mare</th>\n      <th>chuva</th>\n      <th>temp_agua</th>\n      <th>temp_ar</th>\n      <th>e_coli</th>\n      <th>condicao</th>\n      <th>nome</th>\n      <th>referencia</th>\n      <th>lat</th>\n      <th>long</th>\n      <th>agua_doce</th>\n      <th>desembocadura_praia</th>\n      <th>ponto_perto_desembocadura</th>\n      <th>localizacao</th>\n    </tr>\n  </thead>\n  <tbody>\n    <tr>\n      <th>0</th>\n      <td>2020-03-17 07:34:00</td>\n      <td>37</td>\n      <td>Sul</td>\n      <td>Enchente</td>\n      <td>Moderada</td>\n      <td>26.0</td>\n      <td>22.0</td>\n      <td>86.0</td>\n      <td>PRÓPRIA</td>\n      <td>Lagoa da Conceição</td>\n      <td>Em frente à servidão Pedro Manoel Fernandes</td>\n      <td>-27.609113</td>\n      <td>-48.444432</td>\n      <td>Sim</td>\n      <td>Não</td>\n      <td>Não</td>\n      <td>Centro</td>\n    </tr>\n    <tr>\n      <th>1</th>\n      <td>2020-10-03 07:42:00</td>\n      <td>37</td>\n      <td>Noroeste</td>\n      <td>Vazante</td>\n      <td>Ausente</td>\n      <td>23.0</td>\n      <td>23.0</td>\n      <td>269.0</td>\n      <td>PRÓPRIA</td>\n      <td>Lagoa da Conceição</td>\n      <td>Em frente à servidão Pedro Manoel Fernandes</td>\n      <td>-27.609113</td>\n      <td>-48.444432</td>\n      <td>Sim</td>\n      <td>Não</td>\n      <td>Não</td>\n      <td>Centro</td>\n    </tr>\n    <tr>\n      <th>2</th>\n      <td>2020-03-03 07:43:00</td>\n      <td>37</td>\n      <td>Leste</td>\n      <td>Enchente</td>\n      <td>Moderada</td>\n      <td>24.0</td>\n      <td>22.0</td>\n      <td>30.0</td>\n      <td>PRÓPRIA</td>\n      <td>Lagoa da Conceição</td>\n      <td>Em frente à servidão Pedro Manoel Fernandes</td>\n      <td>-27.609113</td>\n      <td>-48.444432</td>\n      <td>Sim</td>\n      <td>Não</td>\n      <td>Não</td>\n      <td>Centro</td>\n    </tr>\n    <tr>\n      <th>3</th>\n      <td>2020-02-27 07:27:00</td>\n      <td>37</td>\n      <td>Sudoeste</td>\n      <td>Vazante</td>\n      <td>Moderada</td>\n      <td>23.0</td>\n      <td>19.0</td>\n      <td>10.0</td>\n      <td>PRÓPRIA</td>\n      <td>Lagoa da Conceição</td>\n      <td>Em frente à servidão Pedro Manoel Fernandes</td>\n      <td>-27.609113</td>\n      <td>-48.444432</td>\n      <td>Sim</td>\n      <td>Não</td>\n      <td>Não</td>\n      <td>Centro</td>\n    </tr>\n    <tr>\n      <th>4</th>\n      <td>2020-02-18 07:30:00</td>\n      <td>37</td>\n      <td>Noroeste</td>\n      <td>Enchente</td>\n      <td>Ausente</td>\n      <td>25.0</td>\n      <td>25.0</td>\n      <td>20.0</td>\n      <td>PRÓPRIA</td>\n      <td>Lagoa da Conceição</td>\n      <td>Em frente à servidão Pedro Manoel Fernandes</td>\n      <td>-27.609113</td>\n      <td>-48.444432</td>\n      <td>Sim</td>\n      <td>Não</td>\n      <td>Não</td>\n      <td>Centro</td>\n    </tr>\n  </tbody>\n</table>\n</div>"
     },
     "metadata": {},
     "execution_count": 4
    }
   ],
   "source": [
    "df = pd.read_csv('df.csv', sep=';', index_col=0, parse_dates=['dateTime'])\n",
    "df.rename(columns={'Vento': 'vento', 'Maré': 'mare', 'Chuva': 'chuva', \n",
    "                   'Agua (Cº)': 'temp_agua', 'Ar (Cº)': 'temp_ar', 'E.Coli NMP*/100ml': 'e_coli', 'Condição': 'condicao'}, inplace=True)\n",
    "df.head()"
   ]
  },
  {
   "cell_type": "code",
   "execution_count": 12,
   "metadata": {
    "tags": []
   },
   "outputs": [
    {
     "output_type": "stream",
     "name": "stdout",
     "text": [
      "              ponto     temp_agua       temp_ar        e_coli           lat  \\\ncount  38530.000000  38356.000000  38341.000000  38436.000000  38530.000000   \nmean      37.426110     22.425315     24.303535   1887.122016    -27.537218   \nstd       22.998268     14.921496     16.249843   4792.909095      0.115273   \nmin        1.000000    -99.000000    -99.000000      1.000000    -27.795771   \n25%       17.000000     20.000000     22.000000     40.000000    -27.613503   \n50%       35.000000     23.000000     24.000000    230.000000    -27.507729   \n75%       57.000000     25.000000     27.000000    700.000000    -27.431652   \nmax       95.000000   2700.000000   1900.000000  24196.000000    -27.388299   \n\n               long  \ncount  38530.000000  \nmean     -48.485993  \nstd        0.061054  \nmin      -48.597285  \n25%      -48.525491  \n50%      -48.480993  \n75%      -48.442128  \nmax      -48.376213  \n<class 'pandas.core.frame.DataFrame'>\nInt64Index: 38530 entries, 0 to 38529\nData columns (total 17 columns):\n #   Column                     Non-Null Count  Dtype         \n---  ------                     --------------  -----         \n 0   dateTime                   38530 non-null  datetime64[ns]\n 1   ponto                      38530 non-null  int64         \n 2   vento                      38214 non-null  object        \n 3   mare                       37747 non-null  object        \n 4   chuva                      30606 non-null  object        \n 5   temp_agua                  38356 non-null  float64       \n 6   temp_ar                    38341 non-null  float64       \n 7   e_coli                     38436 non-null  float64       \n 8   condicao                   38530 non-null  object        \n 9   nome                       38530 non-null  object        \n 10  referencia                 38530 non-null  object        \n 11  lat                        38530 non-null  float64       \n 12  long                       38530 non-null  float64       \n 13  agua_doce                  38530 non-null  object        \n 14  desembocadura_praia        38530 non-null  object        \n 15  ponto_perto_desembocadura  38530 non-null  object        \n 16  localizacao                38530 non-null  object        \ndtypes: datetime64[ns](1), float64(5), int64(1), object(10)\nmemory usage: 5.3+ MB\nNone\n<class 'pandas.core.frame.DataFrame'>\nInt64Index: 38530 entries, 0 to 38529\nData columns (total 17 columns):\n #   Column                     Non-Null Count  Dtype         \n---  ------                     --------------  -----         \n 0   dateTime                   38530 non-null  datetime64[ns]\n 1   ponto                      38530 non-null  int64         \n 2   vento                      38214 non-null  object        \n 3   mare                       37747 non-null  object        \n 4   chuva                      30606 non-null  object        \n 5   temp_agua                  38356 non-null  float64       \n 6   temp_ar                    38341 non-null  float64       \n 7   e_coli                     38436 non-null  float64       \n 8   condicao                   38530 non-null  object        \n 9   nome                       38530 non-null  object        \n 10  referencia                 38530 non-null  object        \n 11  lat                        38530 non-null  float64       \n 12  long                       38530 non-null  float64       \n 13  agua_doce                  38530 non-null  object        \n 14  desembocadura_praia        38530 non-null  object        \n 15  ponto_perto_desembocadura  38530 non-null  object        \n 16  localizacao                38530 non-null  object        \ndtypes: datetime64[ns](1), float64(5), int64(1), object(10)\nmemory usage: 5.3+ MB\n\n"
     ]
    }
   ],
   "source": [
    "print(df.describe())\n",
    "print(df.info())"
   ]
  },
  {
   "cell_type": "code",
   "execution_count": 6,
   "metadata": {},
   "outputs": [
    {
     "output_type": "display_data",
     "data": {
      "application/vnd.plotly.v1+json": {
       "config": {
        "plotlyServerURL": "https://plot.ly"
       },
       "data": [
        {
         "customdata": [
          [
           4,
           "Praia da Saudade",
           "Canto esquerdo",
           "Continente",
           "Não",
           "Não",
           "Não"
          ],
          [
           7,
           "Praia das Palmeiras",
           "Meio",
           "Continente",
           "Não",
           "Não",
           "Não"
          ],
          [
           11,
           "Praia da Beira Mar Norte",
           "Em frente ao monumento da Polícia Militar",
           "Oeste",
           "Não",
           "Sim",
           "Sim"
          ],
          [
           16,
           "Praia da Daniela",
           "Em frente à Rua dos Cactos",
           "Noroeste",
           "Não",
           "Sim",
           "Sim"
          ],
          [
           20,
           "Praia de Canasvieiras",
           "Em frente à Rua das Flores",
           "Norte",
           "Não",
           "Sim",
           "Sim"
          ],
          [
           21,
           "Praia de Canasvieiras",
           "Em frente à Avenida das Nações",
           "Norte",
           "Não",
           "Sim",
           "Não"
          ],
          [
           22,
           "Praia de Canasvieiras",
           "Lado esquerdo do trapiche",
           "Norte",
           "Não",
           "Sim",
           "Sim"
          ],
          [
           24,
           "Praia Brava",
           "Próximo à foz do riacho (costão sul, no mar)",
           "Leste",
           "Não",
           "Sim",
           "Sim"
          ],
          [
           25,
           "Praia Brava",
           "Em frente ao posto salva vidas",
           "Leste",
           "Não",
           "Sim",
           "Não"
          ],
          [
           26,
           "Praia da Lagoinha",
           "Esquerda da saída da lagoa",
           "Norte",
           "Não",
           "Sim",
           "Sim"
          ],
          [
           32,
           "Praia da Barra da Lagoa",
           "Aprox. 50m à esquerda dos molhes",
           "Leste",
           "Não",
           "Sim",
           "Sim"
          ],
          [
           33,
           "Praia da Joaquina",
           "Em frente ao posto salva vidas",
           "Leste",
           "Não",
           "Não",
           "Não"
          ],
          [
           37,
           "Lagoa da Conceição",
           "Em frente à servidão Pedro Manoel Fernandes",
           "Centro",
           "Sim",
           "Não",
           "Não"
          ],
          [
           38,
           "Lagoa da Conceição",
           "Nos trapiches dos serviços de transporte",
           "Centro",
           "Sim",
           "Não",
           "Não"
          ],
          [
           39,
           "Lagoa da Conceição",
           "Em frente à Rua de Acesso à Praia da Joaquina",
           "Centro",
           "Sim",
           "Não",
           "Não"
          ],
          [
           41,
           "Lagoa da Conceição",
           "Canto da Lagoa, ao lado do Posto de Saúde",
           "Centro",
           "Sim",
           "Sim",
           "Sim"
          ],
          [
           43,
           "Lagoa da Conceição",
           "Em frente ao acesso para o Rio Tavares",
           "Centro",
           "Sim",
           "Não",
           "Não"
          ],
          [
           44,
           "Praia da Armação do Pântano Sul",
           "Em frente à Igreja da Vila",
           "Leste",
           "Não",
           "Não",
           "Não"
          ],
          [
           48,
           "Praia da Tapera",
           "No meio da Praia",
           "Oeste",
           "Não",
           "Não",
           "Não"
          ],
          [
           49,
           "Praia da Base Aérea",
           "Ao lado do trapiche",
           "Oeste",
           "Não",
           "Não",
           "Não"
          ],
          [
           55,
           "Praia de Canasvieiras",
           "Frente à Rua Heitor Bitencourt",
           "Norte",
           "Não",
           "Sim",
           "Não"
          ],
          [
           56,
           "Praia da Cachoeira do Bom Jesus",
           "Frente ao trevo os Inglêses",
           "Norte",
           "Não",
           "Sim",
           "Não"
          ],
          [
           59,
           "Praia de Canasvieiras",
           "Frente à Rua Acari Margarida",
           "Norte",
           "Não",
           "Sim",
           "Sim"
          ],
          [
           60,
           "Praia de Canasvieiras",
           "Canto esquerdo da praia próx. às pedras",
           "Norte",
           "Não",
           "Sim",
           "Não"
          ],
          [
           61,
           "Lagoa da Conceição",
           "Altura nº 1480 da Av. das Rendeiras",
           "Centro",
           "Sim",
           "Não",
           "Não"
          ],
          [
           62,
           "Lagoa da Conceição",
           "Frente à Rua Manuel Isidoro da Silveira",
           "Centro",
           "Sim",
           "Não",
           "Não"
          ],
          [
           63,
           "Praia da Caiacangaçú",
           "Altura nº 12.820 da Estrada Geral do Ribeirão",
           "Oeste",
           "Não",
           "Não",
           "Não"
          ],
          [
           64,
           "Praia da Armação do Pântano Sul",
           "Foz do Rio Sangradouro (no rio)",
           "Leste",
           "Sim",
           "Sim",
           "Sim"
          ],
          [
           65,
           "Praia da Solidão",
           "Foz do Rio das Pacas",
           "Leste",
           "Não",
           "Sim",
           "Sim"
          ],
          [
           66,
           "Lagoa da Conceição",
           "Altura do nº 2267 da Av. Osni Ortiga",
           "Centro",
           "Sim",
           "Não",
           "Não"
          ],
          [
           69,
           "Praia Brava",
           "No riacho",
           "Leste",
           "Não",
           "Sim",
           "Sim"
          ],
          [
           72,
           "Lagoa da Conceição",
           "Frente à Rua Canto da Amizade",
           "Centro",
           "Sim",
           "Não",
           "Não"
          ],
          [
           74,
           "Lagoa do Peri",
           "Lagoa do Peri em frente à sede do Parque",
           "Centro",
           "Sim",
           "Sim",
           "Sim"
          ],
          [
           79,
           "Praia Brava",
           "Rotatoria no final Av Traugott Wildi",
           "Leste",
           "Não",
           "Sim",
           "Não"
          ],
          [
           80,
           "Praia da Cachoeira do Bom Jesus",
           "Frente a Rua Dep Otacilio Costa",
           "Norte",
           "Não",
           "Sim",
           "Não"
          ],
          [
           84,
           "Praia da Daniela",
           "Fte Rua das Hortencias",
           "Noroeste",
           "Não",
           "Sim",
           "Não"
          ],
          [
           86,
           "Praia da Lagoinha",
           "Estr. Jornalista Jaime de A. Ramos, altura do n",
           "Norte",
           "Não",
           "Sim",
           "Não"
          ],
          [
           88,
           "Praia da Barra da Lagoa",
           "Fte Rua Aconchego do Mar",
           "Leste",
           "Não",
           "Sim",
           "Sim"
          ],
          [
           92,
           "Praia da Armação do Pântano Sul",
           "Fte Lagoa do Peri, CALDEIRAO",
           "Leste",
           "Não",
           "Não",
           "Não"
          ],
          [
           94,
           "Praia da Beira Mar Norte",
           "Frente a Praca Esteves Junior",
           "Oeste",
           "Não",
           "Sim",
           "Sim"
          ],
          [
           95,
           "Praia da Beira Mar Norte",
           "Frente a Rua Altamiro Guimaraes",
           "Oeste",
           "Não",
           "Sim",
           "Sim"
          ],
          [
           81,
           "Praia de Canasvieiras",
           "Frente a Rua Afonso Cardoso da Veiga",
           "Norte",
           "Não",
           "Sim",
           "Não"
          ],
          [
           82,
           "Praia de Canasvieiras",
           "Frente a Rua Jose Daux",
           "Norte",
           "Não",
           "Sim",
           "Não"
          ],
          [
           18,
           "Praia de Jurere",
           "Frente à Rua das Moreias",
           "Norte",
           "Não",
           "Sim",
           "Não"
          ],
          [
           19,
           "Praia de Jurere",
           " Frente a Rod. Mauricio Sirotsky SOBRINHO",
           "Norte",
           "Não",
           "Sim",
           "Não"
          ],
          [
           54,
           "Praia de Jurere",
           "Frente à Rua Luis Rampa",
           "Norte",
           "Não",
           "Sim",
           "Sim"
          ],
          [
           68,
           "Praia de Jurere",
           "Frente à Rua Waldemar Medeiros",
           "Norte",
           "Não",
           "Sim",
           "Sim"
          ],
          [
           76,
           "Praia de Jurere",
           "Final da Av. dos Buzios, frente a rotatoria sentido Praia do Forte",
           "Norte",
           "Não",
           "Sim",
           "Sim"
          ],
          [
           53,
           "Praia de Jurere",
           "Frente à Avenida dos Salmoes",
           "Norte",
           "Não",
           "Sim",
           "Sim"
          ],
          [
           23,
           "Praia da Ponta das Canas",
           "100 metros à esquerda da Igreja",
           "Norte",
           "Não",
           "Sim",
           "Não"
          ],
          [
           85,
           "Praia de Jurere",
           "Frente Av dos Pampos",
           "Norte",
           "Não",
           "Sim",
           "Sim"
          ],
          [
           67,
           "Praia da Ponta das Canas",
           "Altura do nº 5.281 da Estrada Geral (na Lagoa)",
           "Norte",
           "Sim",
           "Sim",
           "Sim"
          ],
          [
           70,
           "Praia da Ponta das Canas",
           "Frente à Rua Alcina Jannis",
           "Norte",
           "Não",
           "Sim",
           "Sim"
          ],
          [
           83,
           "Praia da Ponta das Canas",
           "Frente à Rua Alcina Jannis (no canal)",
           "Norte",
           "Sim",
           "Sim",
           "Sim"
          ],
          [
           14,
           "Praia de Sambaqui",
           "Frente à Rua Servidão Paraíso das Flores",
           "Oeste",
           "Não",
           "Sim",
           "Não"
          ],
          [
           15,
           "Praia de Sambaqui",
           "Ponta do Sambaqui",
           "Oeste",
           "Não",
           "Não",
           "Não"
          ],
          [
           12,
           "Praia de Santo Antônio de Lisboa",
           "Em frente à Praça Roldão da Rocha Pires",
           "Oeste",
           "Não",
           "Sim",
           "Sim"
          ],
          [
           13,
           "Praia de Santo Antônio de Lisboa",
           "Frente à Servisão Hipólito Machado",
           "Oeste",
           "Não",
           "Não",
           "Não"
          ],
          [
           2,
           "Praia do Balneário",
           "Em frente à Rua José Cândido da Silva",
           "Continente",
           "Não",
           "Sim",
           "Não"
          ],
          [
           8,
           "Praia do Bom Abrigo",
           "Frente à Rua Teófilo Almeida",
           "Continente",
           "Não",
           "Sim",
           "Sim"
          ],
          [
           9,
           "Praia do Cacupé",
           "Póroximo ao nº 4000 da Rod. Haroldo S. Glavan",
           "Oeste",
           "Não",
           "Sim",
           "Sim"
          ],
          [
           10,
           "Praia do Cacupé",
           "No meio da Praia",
           "Oeste",
           "Não",
           "Sim",
           "Não"
          ],
          [
           35,
           "Praia do Campeche",
           "Frente à Avenida Pequeno Príncipe",
           "Leste",
           "Não",
           "Sim",
           "Sim"
          ],
          [
           73,
           "Praia do Campeche",
           "Riozinho (no rio) frente à Servidão Família Nunes",
           "Leste",
           "Sim",
           "Sim",
           "Sim"
          ],
          [
           75,
           "Praia do Campeche",
           "100m à direita do riozinho (no mar)",
           "Leste",
           "Não",
           "Sim",
           "Sim"
          ],
          [
           17,
           "Praia do Forte",
           "Na entrada da Praia",
           "Noroeste",
           "Não",
           "Sim",
           "Sim"
          ],
          [
           89,
           "Praia do Campeche",
           "Frente Posto Salva Vidas, fundos do CEEL",
           "Leste",
           "Não",
           "Não",
           "Não"
          ],
          [
           90,
           "Praia do Campeche",
           "Areias do Campeche - Frente Rua Lomba do Sabão",
           "Leste",
           "Não",
           "Sim",
           "Sim"
          ],
          [
           6,
           "Praia do Itaguaçu",
           "Entre o trebo e a Rua Euclides da Cunha",
           "Continente",
           "Não",
           "Não",
           "Não"
          ],
          [
           1,
           "Praia do Jardim Atlântico",
           "Frente à Rua Elesbão Pinto da Luz",
           "Continente",
           "Não",
           "Sim",
           "Sim"
          ],
          [
           52,
           "Praia do José Mendes",
           "No meio da Praia",
           "Oeste",
           "Não",
           "Não",
           "Não"
          ],
          [
           3,
           "Praia do Matadouro",
           "Belmira Isabel Martins",
           "Continente",
           "Não",
           "Sim",
           "Sim"
          ],
          [
           5,
           "Praia do Meio",
           "No meio da Praia",
           "Continente",
           "Não",
           "Sim",
           "Não"
          ],
          [
           45,
           "Praia do Pântano do Sul",
           "Em frente à Rua Abelardo Otacílio Gomes",
           "Leste",
           "Não",
           "Não",
           "Não"
          ],
          [
           87,
           "Praia do Moçambique",
           "Rod. SC 406 km 10,5, frente ao acesso",
           "Leste",
           "Não",
           "Não",
           "Não"
          ],
          [
           91,
           "Praia do Morro das Pedras",
           "Curva da SC 406",
           "Leste",
           "Não",
           "Não",
           "Não"
          ],
          [
           47,
           "Praia do Ribeirão da Ilha",
           "Frente à Praça",
           "Oeste",
           "Não",
           "Sim",
           "Sim"
          ],
          [
           93,
           "Praia do Pântano do Sul",
           "Frente Avenida Algas Marinhas",
           "Leste",
           "Não",
           "Não",
           "Não"
          ],
          [
           31,
           "Praia do Santinho",
           "200m à esquerda do costão sul",
           "Leste",
           "Não",
           "Sim",
           "Não"
          ],
          [
           27,
           "Praia dos Ingleses",
           "Frente ao Rio Capivari",
           "Leste",
           "Não",
           "Sim",
           "Sim"
          ],
          [
           28,
           "Praia dos Ingleses",
           "Frente ao posto salva vidas",
           "Leste",
           "Não",
           "Sim",
           "Sim"
          ],
          [
           29,
           "Praia dos Ingleses",
           "Frente à Rua da Igreja",
           "Leste",
           "Não",
           "Sim",
           "Sim"
          ],
          [
           57,
           "Praia dos Ingleses",
           "Em frente à Rua do Siri",
           "Leste",
           "Não",
           "Sim",
           "Sim"
          ],
          [
           58,
           "Praia dos Ingleses",
           "Frente à Rua Dante de Pata",
           "Leste",
           "Não",
           "Sim",
           "Não"
          ],
          [
           77,
           "Praia dos Ingleses",
           "Frente à Rua Morro das Feiticeiras, no canto esquerdo",
           "Leste",
           "Não",
           "Sim",
           "Não"
          ],
          [
           78,
           "Praia dos Ingleses",
           "Frente à tubulação, à esquerda do ponto 28",
           "Leste",
           "Não",
           "Sim",
           "Sim"
          ],
          [
           71,
           "Praia Mole",
           "Acesso Principal",
           "Leste",
           "Não",
           "Não",
           "Não"
          ]
         ],
         "hovertemplate": "lat=%{lat}<br>long=%{lon}<br>id=%{customdata[0]}<br>nome=%{customdata[1]}<br>referencia=%{customdata[2]}<br>localizacao=%{customdata[3]}<br>agua_doce=%{customdata[4]}<br>desembocadura_praia=%{customdata[5]}<br>ponto_perto_desembocadura=%{customdata[6]}<extra></extra>",
         "lat": [
          -27.611028,
          -27.616005,
          -27.584557,
          -27.444489,
          -27.426979,
          -27.426375,
          -27.425691,
          -27.405038,
          -27.39755,
          -27.388299,
          -27.573336,
          -27.630013,
          -27.609113,
          -27.604825,
          -27.608666,
          -27.615865,
          -27.606535,
          -27.750026,
          -27.688498,
          -27.67745,
          -27.426798,
          -27.420205,
          -27.426985,
          -27.426163,
          -27.608556,
          -27.605174,
          -27.75991,
          -27.751293,
          -27.795771,
          -27.626044,
          -27.40588,
          -27.625849,
          -27.726262,
          -27.393058,
          -27.423589,
          -27.447517,
          -27.388626,
          -27.571268,
          -27.726149,
          -27.586434,
          -27.583622,
          -27.426288,
          -27.42672,
          -27.437699,
          -27.437962,
          -27.437287,
          -27.431652,
          -27.432301,
          -27.436656,
          -27.395641,
          -27.434404,
          -27.403108,
          -27.413594,
          -27.413719,
          -27.494629,
          -27.489332,
          -27.507729,
          -27.505351,
          -27.577917,
          -27.612113,
          -27.532475,
          -27.542474,
          -27.690053,
          -27.685894,
          -27.687171,
          -27.433803,
          -27.669295,
          -27.697801,
          -27.616881,
          -27.57397,
          -27.61289,
          -27.586949,
          -27.613503,
          -27.782581,
          -27.504877,
          -27.717661,
          -27.719104,
          -27.784081,
          -27.463459,
          -27.425569,
          -27.435926,
          -27.443462,
          -27.439037,
          -27.433593,
          -27.420409,
          -27.435669,
          -27.603589
         ],
         "legendgroup": "",
         "lon": [
          -48.57974,
          -48.59494,
          -48.549543,
          -48.524754,
          -48.464989,
          -48.458445,
          -48.450295,
          -48.410228,
          -48.412865,
          -48.421226,
          -48.42341,
          -48.448247,
          -48.444432,
          -48.463698,
          -48.442128,
          -48.483783,
          -48.461969,
          -48.502654,
          -48.56904,
          -48.567863,
          -48.468643,
          -48.435346,
          -48.46698,
          -48.472927,
          -48.450212,
          -48.465616,
          -48.572752,
          -48.501291,
          -48.533739,
          -48.468325,
          -48.411027,
          -48.476757,
          -48.509805,
          -48.413673,
          -48.44199,
          -48.53569,
          -48.426476,
          -48.426316,
          -48.505881,
          -48.553995,
          -48.546878,
          -48.455104,
          -48.461607,
          -48.490912,
          -48.486347,
          -48.482855,
          -48.4798,
          -48.513193,
          -48.501672,
          -48.434985,
          -48.508767,
          -48.427827,
          -48.428658,
          -48.4281,
          -48.525491,
          -48.538093,
          -48.520074,
          -48.522652,
          -48.57847,
          -48.596888,
          -48.525411,
          -48.524731,
          -48.481163,
          -48.480993,
          -48.480612,
          -48.519793,
          -48.476435,
          -48.489634,
          -48.59192,
          -48.597285,
          -48.54749,
          -48.576584,
          -48.58502,
          -48.508264,
          -48.404209,
          -48.503338,
          -48.564481,
          -48.52378,
          -48.376213,
          -48.39854,
          -48.390648,
          -48.376631,
          -48.386766,
          -48.392998,
          -48.401698,
          -48.39091,
          -48.433156
         ],
         "marker": {
          "color": "#636efa"
         },
         "mode": "markers",
         "name": "",
         "showlegend": false,
         "subplot": "mapbox",
         "type": "scattermapbox"
        }
       ],
       "layout": {
        "legend": {
         "tracegroupgap": 0
        },
        "mapbox": {
         "center": {
          "lat": -27.61587,
          "lon": -48.48378
         },
         "domain": {
          "x": [
           0,
           1
          ],
          "y": [
           0,
           1
          ]
         },
         "style": "carto-positron",
         "zoom": 8
        },
        "margin": {
         "t": 60
        },
        "template": {
         "data": {
          "bar": [
           {
            "error_x": {
             "color": "#2a3f5f"
            },
            "error_y": {
             "color": "#2a3f5f"
            },
            "marker": {
             "line": {
              "color": "#E5ECF6",
              "width": 0.5
             }
            },
            "type": "bar"
           }
          ],
          "barpolar": [
           {
            "marker": {
             "line": {
              "color": "#E5ECF6",
              "width": 0.5
             }
            },
            "type": "barpolar"
           }
          ],
          "carpet": [
           {
            "aaxis": {
             "endlinecolor": "#2a3f5f",
             "gridcolor": "white",
             "linecolor": "white",
             "minorgridcolor": "white",
             "startlinecolor": "#2a3f5f"
            },
            "baxis": {
             "endlinecolor": "#2a3f5f",
             "gridcolor": "white",
             "linecolor": "white",
             "minorgridcolor": "white",
             "startlinecolor": "#2a3f5f"
            },
            "type": "carpet"
           }
          ],
          "choropleth": [
           {
            "colorbar": {
             "outlinewidth": 0,
             "ticks": ""
            },
            "type": "choropleth"
           }
          ],
          "contour": [
           {
            "colorbar": {
             "outlinewidth": 0,
             "ticks": ""
            },
            "colorscale": [
             [
              0,
              "#0d0887"
             ],
             [
              0.1111111111111111,
              "#46039f"
             ],
             [
              0.2222222222222222,
              "#7201a8"
             ],
             [
              0.3333333333333333,
              "#9c179e"
             ],
             [
              0.4444444444444444,
              "#bd3786"
             ],
             [
              0.5555555555555556,
              "#d8576b"
             ],
             [
              0.6666666666666666,
              "#ed7953"
             ],
             [
              0.7777777777777778,
              "#fb9f3a"
             ],
             [
              0.8888888888888888,
              "#fdca26"
             ],
             [
              1,
              "#f0f921"
             ]
            ],
            "type": "contour"
           }
          ],
          "contourcarpet": [
           {
            "colorbar": {
             "outlinewidth": 0,
             "ticks": ""
            },
            "type": "contourcarpet"
           }
          ],
          "heatmap": [
           {
            "colorbar": {
             "outlinewidth": 0,
             "ticks": ""
            },
            "colorscale": [
             [
              0,
              "#0d0887"
             ],
             [
              0.1111111111111111,
              "#46039f"
             ],
             [
              0.2222222222222222,
              "#7201a8"
             ],
             [
              0.3333333333333333,
              "#9c179e"
             ],
             [
              0.4444444444444444,
              "#bd3786"
             ],
             [
              0.5555555555555556,
              "#d8576b"
             ],
             [
              0.6666666666666666,
              "#ed7953"
             ],
             [
              0.7777777777777778,
              "#fb9f3a"
             ],
             [
              0.8888888888888888,
              "#fdca26"
             ],
             [
              1,
              "#f0f921"
             ]
            ],
            "type": "heatmap"
           }
          ],
          "heatmapgl": [
           {
            "colorbar": {
             "outlinewidth": 0,
             "ticks": ""
            },
            "colorscale": [
             [
              0,
              "#0d0887"
             ],
             [
              0.1111111111111111,
              "#46039f"
             ],
             [
              0.2222222222222222,
              "#7201a8"
             ],
             [
              0.3333333333333333,
              "#9c179e"
             ],
             [
              0.4444444444444444,
              "#bd3786"
             ],
             [
              0.5555555555555556,
              "#d8576b"
             ],
             [
              0.6666666666666666,
              "#ed7953"
             ],
             [
              0.7777777777777778,
              "#fb9f3a"
             ],
             [
              0.8888888888888888,
              "#fdca26"
             ],
             [
              1,
              "#f0f921"
             ]
            ],
            "type": "heatmapgl"
           }
          ],
          "histogram": [
           {
            "marker": {
             "colorbar": {
              "outlinewidth": 0,
              "ticks": ""
             }
            },
            "type": "histogram"
           }
          ],
          "histogram2d": [
           {
            "colorbar": {
             "outlinewidth": 0,
             "ticks": ""
            },
            "colorscale": [
             [
              0,
              "#0d0887"
             ],
             [
              0.1111111111111111,
              "#46039f"
             ],
             [
              0.2222222222222222,
              "#7201a8"
             ],
             [
              0.3333333333333333,
              "#9c179e"
             ],
             [
              0.4444444444444444,
              "#bd3786"
             ],
             [
              0.5555555555555556,
              "#d8576b"
             ],
             [
              0.6666666666666666,
              "#ed7953"
             ],
             [
              0.7777777777777778,
              "#fb9f3a"
             ],
             [
              0.8888888888888888,
              "#fdca26"
             ],
             [
              1,
              "#f0f921"
             ]
            ],
            "type": "histogram2d"
           }
          ],
          "histogram2dcontour": [
           {
            "colorbar": {
             "outlinewidth": 0,
             "ticks": ""
            },
            "colorscale": [
             [
              0,
              "#0d0887"
             ],
             [
              0.1111111111111111,
              "#46039f"
             ],
             [
              0.2222222222222222,
              "#7201a8"
             ],
             [
              0.3333333333333333,
              "#9c179e"
             ],
             [
              0.4444444444444444,
              "#bd3786"
             ],
             [
              0.5555555555555556,
              "#d8576b"
             ],
             [
              0.6666666666666666,
              "#ed7953"
             ],
             [
              0.7777777777777778,
              "#fb9f3a"
             ],
             [
              0.8888888888888888,
              "#fdca26"
             ],
             [
              1,
              "#f0f921"
             ]
            ],
            "type": "histogram2dcontour"
           }
          ],
          "mesh3d": [
           {
            "colorbar": {
             "outlinewidth": 0,
             "ticks": ""
            },
            "type": "mesh3d"
           }
          ],
          "parcoords": [
           {
            "line": {
             "colorbar": {
              "outlinewidth": 0,
              "ticks": ""
             }
            },
            "type": "parcoords"
           }
          ],
          "pie": [
           {
            "automargin": true,
            "type": "pie"
           }
          ],
          "scatter": [
           {
            "marker": {
             "colorbar": {
              "outlinewidth": 0,
              "ticks": ""
             }
            },
            "type": "scatter"
           }
          ],
          "scatter3d": [
           {
            "line": {
             "colorbar": {
              "outlinewidth": 0,
              "ticks": ""
             }
            },
            "marker": {
             "colorbar": {
              "outlinewidth": 0,
              "ticks": ""
             }
            },
            "type": "scatter3d"
           }
          ],
          "scattercarpet": [
           {
            "marker": {
             "colorbar": {
              "outlinewidth": 0,
              "ticks": ""
             }
            },
            "type": "scattercarpet"
           }
          ],
          "scattergeo": [
           {
            "marker": {
             "colorbar": {
              "outlinewidth": 0,
              "ticks": ""
             }
            },
            "type": "scattergeo"
           }
          ],
          "scattergl": [
           {
            "marker": {
             "colorbar": {
              "outlinewidth": 0,
              "ticks": ""
             }
            },
            "type": "scattergl"
           }
          ],
          "scattermapbox": [
           {
            "marker": {
             "colorbar": {
              "outlinewidth": 0,
              "ticks": ""
             }
            },
            "type": "scattermapbox"
           }
          ],
          "scatterpolar": [
           {
            "marker": {
             "colorbar": {
              "outlinewidth": 0,
              "ticks": ""
             }
            },
            "type": "scatterpolar"
           }
          ],
          "scatterpolargl": [
           {
            "marker": {
             "colorbar": {
              "outlinewidth": 0,
              "ticks": ""
             }
            },
            "type": "scatterpolargl"
           }
          ],
          "scatterternary": [
           {
            "marker": {
             "colorbar": {
              "outlinewidth": 0,
              "ticks": ""
             }
            },
            "type": "scatterternary"
           }
          ],
          "surface": [
           {
            "colorbar": {
             "outlinewidth": 0,
             "ticks": ""
            },
            "colorscale": [
             [
              0,
              "#0d0887"
             ],
             [
              0.1111111111111111,
              "#46039f"
             ],
             [
              0.2222222222222222,
              "#7201a8"
             ],
             [
              0.3333333333333333,
              "#9c179e"
             ],
             [
              0.4444444444444444,
              "#bd3786"
             ],
             [
              0.5555555555555556,
              "#d8576b"
             ],
             [
              0.6666666666666666,
              "#ed7953"
             ],
             [
              0.7777777777777778,
              "#fb9f3a"
             ],
             [
              0.8888888888888888,
              "#fdca26"
             ],
             [
              1,
              "#f0f921"
             ]
            ],
            "type": "surface"
           }
          ],
          "table": [
           {
            "cells": {
             "fill": {
              "color": "#EBF0F8"
             },
             "line": {
              "color": "white"
             }
            },
            "header": {
             "fill": {
              "color": "#C8D4E3"
             },
             "line": {
              "color": "white"
             }
            },
            "type": "table"
           }
          ]
         },
         "layout": {
          "annotationdefaults": {
           "arrowcolor": "#2a3f5f",
           "arrowhead": 0,
           "arrowwidth": 1
          },
          "coloraxis": {
           "colorbar": {
            "outlinewidth": 0,
            "ticks": ""
           }
          },
          "colorscale": {
           "diverging": [
            [
             0,
             "#8e0152"
            ],
            [
             0.1,
             "#c51b7d"
            ],
            [
             0.2,
             "#de77ae"
            ],
            [
             0.3,
             "#f1b6da"
            ],
            [
             0.4,
             "#fde0ef"
            ],
            [
             0.5,
             "#f7f7f7"
            ],
            [
             0.6,
             "#e6f5d0"
            ],
            [
             0.7,
             "#b8e186"
            ],
            [
             0.8,
             "#7fbc41"
            ],
            [
             0.9,
             "#4d9221"
            ],
            [
             1,
             "#276419"
            ]
           ],
           "sequential": [
            [
             0,
             "#0d0887"
            ],
            [
             0.1111111111111111,
             "#46039f"
            ],
            [
             0.2222222222222222,
             "#7201a8"
            ],
            [
             0.3333333333333333,
             "#9c179e"
            ],
            [
             0.4444444444444444,
             "#bd3786"
            ],
            [
             0.5555555555555556,
             "#d8576b"
            ],
            [
             0.6666666666666666,
             "#ed7953"
            ],
            [
             0.7777777777777778,
             "#fb9f3a"
            ],
            [
             0.8888888888888888,
             "#fdca26"
            ],
            [
             1,
             "#f0f921"
            ]
           ],
           "sequentialminus": [
            [
             0,
             "#0d0887"
            ],
            [
             0.1111111111111111,
             "#46039f"
            ],
            [
             0.2222222222222222,
             "#7201a8"
            ],
            [
             0.3333333333333333,
             "#9c179e"
            ],
            [
             0.4444444444444444,
             "#bd3786"
            ],
            [
             0.5555555555555556,
             "#d8576b"
            ],
            [
             0.6666666666666666,
             "#ed7953"
            ],
            [
             0.7777777777777778,
             "#fb9f3a"
            ],
            [
             0.8888888888888888,
             "#fdca26"
            ],
            [
             1,
             "#f0f921"
            ]
           ]
          },
          "colorway": [
           "#636efa",
           "#EF553B",
           "#00cc96",
           "#ab63fa",
           "#FFA15A",
           "#19d3f3",
           "#FF6692",
           "#B6E880",
           "#FF97FF",
           "#FECB52"
          ],
          "font": {
           "color": "#2a3f5f"
          },
          "geo": {
           "bgcolor": "white",
           "lakecolor": "white",
           "landcolor": "#E5ECF6",
           "showlakes": true,
           "showland": true,
           "subunitcolor": "white"
          },
          "hoverlabel": {
           "align": "left"
          },
          "hovermode": "closest",
          "mapbox": {
           "style": "light"
          },
          "paper_bgcolor": "white",
          "plot_bgcolor": "#E5ECF6",
          "polar": {
           "angularaxis": {
            "gridcolor": "white",
            "linecolor": "white",
            "ticks": ""
           },
           "bgcolor": "#E5ECF6",
           "radialaxis": {
            "gridcolor": "white",
            "linecolor": "white",
            "ticks": ""
           }
          },
          "scene": {
           "xaxis": {
            "backgroundcolor": "#E5ECF6",
            "gridcolor": "white",
            "gridwidth": 2,
            "linecolor": "white",
            "showbackground": true,
            "ticks": "",
            "zerolinecolor": "white"
           },
           "yaxis": {
            "backgroundcolor": "#E5ECF6",
            "gridcolor": "white",
            "gridwidth": 2,
            "linecolor": "white",
            "showbackground": true,
            "ticks": "",
            "zerolinecolor": "white"
           },
           "zaxis": {
            "backgroundcolor": "#E5ECF6",
            "gridcolor": "white",
            "gridwidth": 2,
            "linecolor": "white",
            "showbackground": true,
            "ticks": "",
            "zerolinecolor": "white"
           }
          },
          "shapedefaults": {
           "line": {
            "color": "#2a3f5f"
           }
          },
          "ternary": {
           "aaxis": {
            "gridcolor": "white",
            "linecolor": "white",
            "ticks": ""
           },
           "baxis": {
            "gridcolor": "white",
            "linecolor": "white",
            "ticks": ""
           },
           "bgcolor": "#E5ECF6",
           "caxis": {
            "gridcolor": "white",
            "linecolor": "white",
            "ticks": ""
           }
          },
          "title": {
           "x": 0.05
          },
          "xaxis": {
           "automargin": true,
           "gridcolor": "white",
           "linecolor": "white",
           "ticks": "",
           "title": {
            "standoff": 15
           },
           "zerolinecolor": "white",
           "zerolinewidth": 2
          },
          "yaxis": {
           "automargin": true,
           "gridcolor": "white",
           "linecolor": "white",
           "ticks": "",
           "title": {
            "standoff": 15
           },
           "zerolinecolor": "white",
           "zerolinewidth": 2
          }
         }
        }
       }
      }
     },
     "metadata": {}
    }
   ],
   "source": [
    "mapa = px.scatter_mapbox(\n",
    "    features, lat='lat', lon='long', hover_data=['id', 'nome', 'referencia', 'localizacao', 'agua_doce', 'desembocadura_praia', 'ponto_perto_desembocadura'], \n",
    "    mapbox_style='carto-positron', center={\"lat\": -27.61587, \"lon\": -48.48378}, zoom=8)\n",
    "\n",
    "mapa"
   ]
  },
  {
   "cell_type": "code",
   "execution_count": 79,
   "metadata": {},
   "outputs": [
    {
     "output_type": "execute_result",
     "data": {
      "text/plain": [
       "               mean    median           var          std\n",
       "ponto                                                   \n",
       "1      11410.184200  11199.00  7.809506e+07  8837.140924\n",
       "2       6301.484917   3000.00  4.904798e+07  7003.426059\n",
       "3      12485.272881  16000.00  6.501224e+07  8063.016759\n",
       "4       2140.342424    500.00  1.952892e+07  4419.153359\n",
       "5       2938.344983    700.00  3.106054e+07  5573.198349\n",
       "6       2071.014286    420.00  2.060488e+07  4539.259785\n",
       "7       2880.574112    500.00  2.825406e+07  5315.455138\n",
       "8      10225.256283   9000.00  6.731239e+07  8204.412663\n",
       "9        430.024510    153.00  3.580077e+06  1892.109127\n",
       "10       909.362768    230.00  9.106996e+06  3017.779950\n",
       "11      8300.413084   5000.00  6.310388e+07  7943.795114\n",
       "12      1026.775574    230.00  9.889448e+06  3144.749245\n",
       "13       605.519605    230.00  5.636076e+06  2374.042138\n",
       "14      1023.119836    230.00  8.274176e+06  2876.486812\n",
       "15       349.645484    134.00  1.916438e+06  1384.354841\n",
       "16       238.489268     80.00  9.072768e+05   952.510785\n",
       "17       173.134983     80.00  1.605735e+05   400.716250\n",
       "18       367.214263    130.00  2.173074e+06  1474.135138\n",
       "19       405.734548    228.00  1.915915e+06  1384.165860\n",
       "20       943.997917    230.00  1.149281e+07  3390.104423\n",
       "21       586.215482    230.00  6.029362e+06  2455.475914\n",
       "22      1034.689557    230.00  1.108259e+07  3329.052828\n",
       "23       517.605288    230.00  4.584617e+06  2141.171902\n",
       "24       584.052124    139.55  5.587188e+06  2363.723366\n",
       "25       177.261421     20.00  1.460265e+06  1208.414209\n",
       "26       401.443160    170.00  2.314655e+06  1521.398988\n",
       "27      3129.848355    230.00  3.895472e+07  6241.371623\n",
       "28       493.133439    189.00  3.603873e+06  1898.387060\n",
       "29       434.672623    170.00  3.758603e+06  1938.711640\n",
       "31       135.772128     20.00  2.656840e+05   515.445452\n",
       "32       155.621993     80.00  5.084929e+04   225.497877\n",
       "33       152.425169     20.00  4.973738e+05   705.247305\n",
       "35       129.112565     20.00  2.087221e+05   456.861110\n",
       "37      1050.503657    230.00  1.082853e+07  3290.673202\n",
       "38      7249.545369   2400.00  6.954584e+07  8339.414704\n",
       "39      1993.011494    269.00  2.313307e+07  4809.685058\n",
       "41      1758.272185    266.00  1.748667e+07  4181.706347\n",
       "43       623.829412    230.00  3.691209e+06  1921.251844\n",
       "44       198.980435     70.00  6.619351e+05   813.593959\n",
       "45       325.532573    162.50  1.141902e+06  1068.598341\n",
       "47       561.662603    230.00  1.641953e+06  1281.387288\n",
       "48      1938.603437    300.00  1.978921e+07  4448.506199\n",
       "49       304.177340    135.00  1.073434e+06  1036.066388\n",
       "52      8292.611874   5000.00  6.055131e+07  7781.472294\n",
       "53       202.123339     80.00  7.805484e+05   883.486479\n",
       "54      1330.167354    300.00  1.045268e+07  3233.060833\n",
       "55       903.328325    230.00  9.005843e+06  3000.973712\n",
       "56       520.607081    130.00  3.378812e+06  1838.154586\n",
       "57      1319.876531    230.00  1.348541e+07  3672.247976\n",
       "58       460.151468    130.00  3.901659e+06  1975.261711\n",
       "59      1537.290813    230.00  1.662185e+07  4076.990889\n",
       "60       526.978388    130.00  4.034733e+06  2008.664391\n",
       "61       869.629078    170.00  8.875941e+06  2979.251696\n",
       "62      5251.898289   1700.00  5.008320e+07  7076.948846\n",
       "63       613.539444    219.00  4.082747e+06  2020.580902\n",
       "64      5804.050977   3000.00  3.654328e+07  6045.103779\n",
       "65       226.718199     20.00  9.286413e+05   963.660351\n",
       "66       910.065336    230.00  6.571373e+06  2563.468941\n",
       "67      6736.947742   2419.60  5.965928e+07  7723.942202\n",
       "68       442.300181     80.00  3.376601e+06  1837.553026\n",
       "69      5129.415367    809.00  5.535104e+07  7439.828141\n",
       "70      2099.904299    230.00  2.124510e+07  4609.241030\n",
       "71        73.067658     20.00  4.535622e+04   212.969993\n",
       "72      2232.405965    266.00  2.203642e+07  4694.296217\n",
       "73      2150.824490    500.00  1.906013e+07  4365.790796\n",
       "74        91.729474     20.00  5.402222e+04   232.426798\n",
       "75       116.914729     10.00  1.080192e+05   328.662774\n",
       "76       174.882812     20.00  1.558748e+06  1248.498333\n",
       "77       193.976190     31.00  3.872964e+05   622.331416\n",
       "78       321.196850     75.00  5.091456e+05   713.544362\n",
       "79        66.132812     10.00  1.376795e+05   371.051907\n",
       "80       165.382812     30.00  1.545313e+05   393.104705\n",
       "81       636.117188     74.00  8.622247e+06  2936.366354\n",
       "82       781.023438    109.50  1.119827e+07  3346.380961\n",
       "83      9039.671875   3432.00  9.628093e+07  9812.284509\n",
       "84       641.023256     31.00  1.354181e+07  3679.919561\n",
       "85       122.627907     20.00  8.466448e+04   290.971609\n",
       "86        66.674419     10.00  1.519289e+04   123.259448\n",
       "87        16.534884     10.00  1.138683e+03    33.744381\n",
       "88        47.209302     20.00  3.468360e+03    58.892783\n",
       "89        19.790698     10.00  1.310979e+03    36.207443\n",
       "90        21.186047     10.00  1.588155e+03    39.851663\n",
       "91        50.906977     10.00  4.646351e+04   215.553972\n",
       "92        15.348837     10.00  1.125471e+03    33.548035\n",
       "93        17.511628     10.00  1.166637e+03    34.156065\n",
       "94      2823.575758    795.50  2.490653e+07  4990.643846\n",
       "95      4514.575758   1358.50  4.293082e+07  6552.161828"
      ],
      "text/html": "<div>\n<style scoped>\n    .dataframe tbody tr th:only-of-type {\n        vertical-align: middle;\n    }\n\n    .dataframe tbody tr th {\n        vertical-align: top;\n    }\n\n    .dataframe thead th {\n        text-align: right;\n    }\n</style>\n<table border=\"1\" class=\"dataframe\">\n  <thead>\n    <tr style=\"text-align: right;\">\n      <th></th>\n      <th>mean</th>\n      <th>median</th>\n      <th>var</th>\n      <th>std</th>\n    </tr>\n    <tr>\n      <th>ponto</th>\n      <th></th>\n      <th></th>\n      <th></th>\n      <th></th>\n    </tr>\n  </thead>\n  <tbody>\n    <tr>\n      <th>1</th>\n      <td>11410.184200</td>\n      <td>11199.00</td>\n      <td>7.809506e+07</td>\n      <td>8837.140924</td>\n    </tr>\n    <tr>\n      <th>2</th>\n      <td>6301.484917</td>\n      <td>3000.00</td>\n      <td>4.904798e+07</td>\n      <td>7003.426059</td>\n    </tr>\n    <tr>\n      <th>3</th>\n      <td>12485.272881</td>\n      <td>16000.00</td>\n      <td>6.501224e+07</td>\n      <td>8063.016759</td>\n    </tr>\n    <tr>\n      <th>4</th>\n      <td>2140.342424</td>\n      <td>500.00</td>\n      <td>1.952892e+07</td>\n      <td>4419.153359</td>\n    </tr>\n    <tr>\n      <th>5</th>\n      <td>2938.344983</td>\n      <td>700.00</td>\n      <td>3.106054e+07</td>\n      <td>5573.198349</td>\n    </tr>\n    <tr>\n      <th>6</th>\n      <td>2071.014286</td>\n      <td>420.00</td>\n      <td>2.060488e+07</td>\n      <td>4539.259785</td>\n    </tr>\n    <tr>\n      <th>7</th>\n      <td>2880.574112</td>\n      <td>500.00</td>\n      <td>2.825406e+07</td>\n      <td>5315.455138</td>\n    </tr>\n    <tr>\n      <th>8</th>\n      <td>10225.256283</td>\n      <td>9000.00</td>\n      <td>6.731239e+07</td>\n      <td>8204.412663</td>\n    </tr>\n    <tr>\n      <th>9</th>\n      <td>430.024510</td>\n      <td>153.00</td>\n      <td>3.580077e+06</td>\n      <td>1892.109127</td>\n    </tr>\n    <tr>\n      <th>10</th>\n      <td>909.362768</td>\n      <td>230.00</td>\n      <td>9.106996e+06</td>\n      <td>3017.779950</td>\n    </tr>\n    <tr>\n      <th>11</th>\n      <td>8300.413084</td>\n      <td>5000.00</td>\n      <td>6.310388e+07</td>\n      <td>7943.795114</td>\n    </tr>\n    <tr>\n      <th>12</th>\n      <td>1026.775574</td>\n      <td>230.00</td>\n      <td>9.889448e+06</td>\n      <td>3144.749245</td>\n    </tr>\n    <tr>\n      <th>13</th>\n      <td>605.519605</td>\n      <td>230.00</td>\n      <td>5.636076e+06</td>\n      <td>2374.042138</td>\n    </tr>\n    <tr>\n      <th>14</th>\n      <td>1023.119836</td>\n      <td>230.00</td>\n      <td>8.274176e+06</td>\n      <td>2876.486812</td>\n    </tr>\n    <tr>\n      <th>15</th>\n      <td>349.645484</td>\n      <td>134.00</td>\n      <td>1.916438e+06</td>\n      <td>1384.354841</td>\n    </tr>\n    <tr>\n      <th>16</th>\n      <td>238.489268</td>\n      <td>80.00</td>\n      <td>9.072768e+05</td>\n      <td>952.510785</td>\n    </tr>\n    <tr>\n      <th>17</th>\n      <td>173.134983</td>\n      <td>80.00</td>\n      <td>1.605735e+05</td>\n      <td>400.716250</td>\n    </tr>\n    <tr>\n      <th>18</th>\n      <td>367.214263</td>\n      <td>130.00</td>\n      <td>2.173074e+06</td>\n      <td>1474.135138</td>\n    </tr>\n    <tr>\n      <th>19</th>\n      <td>405.734548</td>\n      <td>228.00</td>\n      <td>1.915915e+06</td>\n      <td>1384.165860</td>\n    </tr>\n    <tr>\n      <th>20</th>\n      <td>943.997917</td>\n      <td>230.00</td>\n      <td>1.149281e+07</td>\n      <td>3390.104423</td>\n    </tr>\n    <tr>\n      <th>21</th>\n      <td>586.215482</td>\n      <td>230.00</td>\n      <td>6.029362e+06</td>\n      <td>2455.475914</td>\n    </tr>\n    <tr>\n      <th>22</th>\n      <td>1034.689557</td>\n      <td>230.00</td>\n      <td>1.108259e+07</td>\n      <td>3329.052828</td>\n    </tr>\n    <tr>\n      <th>23</th>\n      <td>517.605288</td>\n      <td>230.00</td>\n      <td>4.584617e+06</td>\n      <td>2141.171902</td>\n    </tr>\n    <tr>\n      <th>24</th>\n      <td>584.052124</td>\n      <td>139.55</td>\n      <td>5.587188e+06</td>\n      <td>2363.723366</td>\n    </tr>\n    <tr>\n      <th>25</th>\n      <td>177.261421</td>\n      <td>20.00</td>\n      <td>1.460265e+06</td>\n      <td>1208.414209</td>\n    </tr>\n    <tr>\n      <th>26</th>\n      <td>401.443160</td>\n      <td>170.00</td>\n      <td>2.314655e+06</td>\n      <td>1521.398988</td>\n    </tr>\n    <tr>\n      <th>27</th>\n      <td>3129.848355</td>\n      <td>230.00</td>\n      <td>3.895472e+07</td>\n      <td>6241.371623</td>\n    </tr>\n    <tr>\n      <th>28</th>\n      <td>493.133439</td>\n      <td>189.00</td>\n      <td>3.603873e+06</td>\n      <td>1898.387060</td>\n    </tr>\n    <tr>\n      <th>29</th>\n      <td>434.672623</td>\n      <td>170.00</td>\n      <td>3.758603e+06</td>\n      <td>1938.711640</td>\n    </tr>\n    <tr>\n      <th>31</th>\n      <td>135.772128</td>\n      <td>20.00</td>\n      <td>2.656840e+05</td>\n      <td>515.445452</td>\n    </tr>\n    <tr>\n      <th>32</th>\n      <td>155.621993</td>\n      <td>80.00</td>\n      <td>5.084929e+04</td>\n      <td>225.497877</td>\n    </tr>\n    <tr>\n      <th>33</th>\n      <td>152.425169</td>\n      <td>20.00</td>\n      <td>4.973738e+05</td>\n      <td>705.247305</td>\n    </tr>\n    <tr>\n      <th>35</th>\n      <td>129.112565</td>\n      <td>20.00</td>\n      <td>2.087221e+05</td>\n      <td>456.861110</td>\n    </tr>\n    <tr>\n      <th>37</th>\n      <td>1050.503657</td>\n      <td>230.00</td>\n      <td>1.082853e+07</td>\n      <td>3290.673202</td>\n    </tr>\n    <tr>\n      <th>38</th>\n      <td>7249.545369</td>\n      <td>2400.00</td>\n      <td>6.954584e+07</td>\n      <td>8339.414704</td>\n    </tr>\n    <tr>\n      <th>39</th>\n      <td>1993.011494</td>\n      <td>269.00</td>\n      <td>2.313307e+07</td>\n      <td>4809.685058</td>\n    </tr>\n    <tr>\n      <th>41</th>\n      <td>1758.272185</td>\n      <td>266.00</td>\n      <td>1.748667e+07</td>\n      <td>4181.706347</td>\n    </tr>\n    <tr>\n      <th>43</th>\n      <td>623.829412</td>\n      <td>230.00</td>\n      <td>3.691209e+06</td>\n      <td>1921.251844</td>\n    </tr>\n    <tr>\n      <th>44</th>\n      <td>198.980435</td>\n      <td>70.00</td>\n      <td>6.619351e+05</td>\n      <td>813.593959</td>\n    </tr>\n    <tr>\n      <th>45</th>\n      <td>325.532573</td>\n      <td>162.50</td>\n      <td>1.141902e+06</td>\n      <td>1068.598341</td>\n    </tr>\n    <tr>\n      <th>47</th>\n      <td>561.662603</td>\n      <td>230.00</td>\n      <td>1.641953e+06</td>\n      <td>1281.387288</td>\n    </tr>\n    <tr>\n      <th>48</th>\n      <td>1938.603437</td>\n      <td>300.00</td>\n      <td>1.978921e+07</td>\n      <td>4448.506199</td>\n    </tr>\n    <tr>\n      <th>49</th>\n      <td>304.177340</td>\n      <td>135.00</td>\n      <td>1.073434e+06</td>\n      <td>1036.066388</td>\n    </tr>\n    <tr>\n      <th>52</th>\n      <td>8292.611874</td>\n      <td>5000.00</td>\n      <td>6.055131e+07</td>\n      <td>7781.472294</td>\n    </tr>\n    <tr>\n      <th>53</th>\n      <td>202.123339</td>\n      <td>80.00</td>\n      <td>7.805484e+05</td>\n      <td>883.486479</td>\n    </tr>\n    <tr>\n      <th>54</th>\n      <td>1330.167354</td>\n      <td>300.00</td>\n      <td>1.045268e+07</td>\n      <td>3233.060833</td>\n    </tr>\n    <tr>\n      <th>55</th>\n      <td>903.328325</td>\n      <td>230.00</td>\n      <td>9.005843e+06</td>\n      <td>3000.973712</td>\n    </tr>\n    <tr>\n      <th>56</th>\n      <td>520.607081</td>\n      <td>130.00</td>\n      <td>3.378812e+06</td>\n      <td>1838.154586</td>\n    </tr>\n    <tr>\n      <th>57</th>\n      <td>1319.876531</td>\n      <td>230.00</td>\n      <td>1.348541e+07</td>\n      <td>3672.247976</td>\n    </tr>\n    <tr>\n      <th>58</th>\n      <td>460.151468</td>\n      <td>130.00</td>\n      <td>3.901659e+06</td>\n      <td>1975.261711</td>\n    </tr>\n    <tr>\n      <th>59</th>\n      <td>1537.290813</td>\n      <td>230.00</td>\n      <td>1.662185e+07</td>\n      <td>4076.990889</td>\n    </tr>\n    <tr>\n      <th>60</th>\n      <td>526.978388</td>\n      <td>130.00</td>\n      <td>4.034733e+06</td>\n      <td>2008.664391</td>\n    </tr>\n    <tr>\n      <th>61</th>\n      <td>869.629078</td>\n      <td>170.00</td>\n      <td>8.875941e+06</td>\n      <td>2979.251696</td>\n    </tr>\n    <tr>\n      <th>62</th>\n      <td>5251.898289</td>\n      <td>1700.00</td>\n      <td>5.008320e+07</td>\n      <td>7076.948846</td>\n    </tr>\n    <tr>\n      <th>63</th>\n      <td>613.539444</td>\n      <td>219.00</td>\n      <td>4.082747e+06</td>\n      <td>2020.580902</td>\n    </tr>\n    <tr>\n      <th>64</th>\n      <td>5804.050977</td>\n      <td>3000.00</td>\n      <td>3.654328e+07</td>\n      <td>6045.103779</td>\n    </tr>\n    <tr>\n      <th>65</th>\n      <td>226.718199</td>\n      <td>20.00</td>\n      <td>9.286413e+05</td>\n      <td>963.660351</td>\n    </tr>\n    <tr>\n      <th>66</th>\n      <td>910.065336</td>\n      <td>230.00</td>\n      <td>6.571373e+06</td>\n      <td>2563.468941</td>\n    </tr>\n    <tr>\n      <th>67</th>\n      <td>6736.947742</td>\n      <td>2419.60</td>\n      <td>5.965928e+07</td>\n      <td>7723.942202</td>\n    </tr>\n    <tr>\n      <th>68</th>\n      <td>442.300181</td>\n      <td>80.00</td>\n      <td>3.376601e+06</td>\n      <td>1837.553026</td>\n    </tr>\n    <tr>\n      <th>69</th>\n      <td>5129.415367</td>\n      <td>809.00</td>\n      <td>5.535104e+07</td>\n      <td>7439.828141</td>\n    </tr>\n    <tr>\n      <th>70</th>\n      <td>2099.904299</td>\n      <td>230.00</td>\n      <td>2.124510e+07</td>\n      <td>4609.241030</td>\n    </tr>\n    <tr>\n      <th>71</th>\n      <td>73.067658</td>\n      <td>20.00</td>\n      <td>4.535622e+04</td>\n      <td>212.969993</td>\n    </tr>\n    <tr>\n      <th>72</th>\n      <td>2232.405965</td>\n      <td>266.00</td>\n      <td>2.203642e+07</td>\n      <td>4694.296217</td>\n    </tr>\n    <tr>\n      <th>73</th>\n      <td>2150.824490</td>\n      <td>500.00</td>\n      <td>1.906013e+07</td>\n      <td>4365.790796</td>\n    </tr>\n    <tr>\n      <th>74</th>\n      <td>91.729474</td>\n      <td>20.00</td>\n      <td>5.402222e+04</td>\n      <td>232.426798</td>\n    </tr>\n    <tr>\n      <th>75</th>\n      <td>116.914729</td>\n      <td>10.00</td>\n      <td>1.080192e+05</td>\n      <td>328.662774</td>\n    </tr>\n    <tr>\n      <th>76</th>\n      <td>174.882812</td>\n      <td>20.00</td>\n      <td>1.558748e+06</td>\n      <td>1248.498333</td>\n    </tr>\n    <tr>\n      <th>77</th>\n      <td>193.976190</td>\n      <td>31.00</td>\n      <td>3.872964e+05</td>\n      <td>622.331416</td>\n    </tr>\n    <tr>\n      <th>78</th>\n      <td>321.196850</td>\n      <td>75.00</td>\n      <td>5.091456e+05</td>\n      <td>713.544362</td>\n    </tr>\n    <tr>\n      <th>79</th>\n      <td>66.132812</td>\n      <td>10.00</td>\n      <td>1.376795e+05</td>\n      <td>371.051907</td>\n    </tr>\n    <tr>\n      <th>80</th>\n      <td>165.382812</td>\n      <td>30.00</td>\n      <td>1.545313e+05</td>\n      <td>393.104705</td>\n    </tr>\n    <tr>\n      <th>81</th>\n      <td>636.117188</td>\n      <td>74.00</td>\n      <td>8.622247e+06</td>\n      <td>2936.366354</td>\n    </tr>\n    <tr>\n      <th>82</th>\n      <td>781.023438</td>\n      <td>109.50</td>\n      <td>1.119827e+07</td>\n      <td>3346.380961</td>\n    </tr>\n    <tr>\n      <th>83</th>\n      <td>9039.671875</td>\n      <td>3432.00</td>\n      <td>9.628093e+07</td>\n      <td>9812.284509</td>\n    </tr>\n    <tr>\n      <th>84</th>\n      <td>641.023256</td>\n      <td>31.00</td>\n      <td>1.354181e+07</td>\n      <td>3679.919561</td>\n    </tr>\n    <tr>\n      <th>85</th>\n      <td>122.627907</td>\n      <td>20.00</td>\n      <td>8.466448e+04</td>\n      <td>290.971609</td>\n    </tr>\n    <tr>\n      <th>86</th>\n      <td>66.674419</td>\n      <td>10.00</td>\n      <td>1.519289e+04</td>\n      <td>123.259448</td>\n    </tr>\n    <tr>\n      <th>87</th>\n      <td>16.534884</td>\n      <td>10.00</td>\n      <td>1.138683e+03</td>\n      <td>33.744381</td>\n    </tr>\n    <tr>\n      <th>88</th>\n      <td>47.209302</td>\n      <td>20.00</td>\n      <td>3.468360e+03</td>\n      <td>58.892783</td>\n    </tr>\n    <tr>\n      <th>89</th>\n      <td>19.790698</td>\n      <td>10.00</td>\n      <td>1.310979e+03</td>\n      <td>36.207443</td>\n    </tr>\n    <tr>\n      <th>90</th>\n      <td>21.186047</td>\n      <td>10.00</td>\n      <td>1.588155e+03</td>\n      <td>39.851663</td>\n    </tr>\n    <tr>\n      <th>91</th>\n      <td>50.906977</td>\n      <td>10.00</td>\n      <td>4.646351e+04</td>\n      <td>215.553972</td>\n    </tr>\n    <tr>\n      <th>92</th>\n      <td>15.348837</td>\n      <td>10.00</td>\n      <td>1.125471e+03</td>\n      <td>33.548035</td>\n    </tr>\n    <tr>\n      <th>93</th>\n      <td>17.511628</td>\n      <td>10.00</td>\n      <td>1.166637e+03</td>\n      <td>34.156065</td>\n    </tr>\n    <tr>\n      <th>94</th>\n      <td>2823.575758</td>\n      <td>795.50</td>\n      <td>2.490653e+07</td>\n      <td>4990.643846</td>\n    </tr>\n    <tr>\n      <th>95</th>\n      <td>4514.575758</td>\n      <td>1358.50</td>\n      <td>4.293082e+07</td>\n      <td>6552.161828</td>\n    </tr>\n  </tbody>\n</table>\n</div>"
     },
     "metadata": {},
     "execution_count": 79
    }
   ],
   "source": [
    "summary_stats = df.groupby('ponto')['e_coli'].agg(['mean', 'median', 'var', 'std'])\n",
    "summary_stats"
   ]
  },
  {
   "cell_type": "code",
   "execution_count": 70,
   "metadata": {},
   "outputs": [
    {
     "output_type": "execute_result",
     "data": {
      "text/plain": [
       "condicao           IMPRÓPRIA  INDETERMINADO  PRÓPRIA  Total de medições  \\\n",
       "ponto                                                                     \n",
       "1                        481              2        0                483   \n",
       "2                        478              3        6                487   \n",
       "3                        353              1        1                355   \n",
       "4                        341             37      217                595   \n",
       "5                        404             28      167                599   \n",
       "6                        339             68      189                596   \n",
       "7                        376             35      182                593   \n",
       "8                        558              1        7                566   \n",
       "9                         20            137      455                612   \n",
       "10                       111            140      358                609   \n",
       "11                       530              7        5                542   \n",
       "12                       123            119      369                611   \n",
       "13                        51            126      430                607   \n",
       "14                       170            128      313                611   \n",
       "15                        19            139      452                610   \n",
       "16                        15            141      459                615   \n",
       "17                         3            142      441                586   \n",
       "18                        25            143      449                617   \n",
       "19                        36            145      450                631   \n",
       "20                       101            134      389                624   \n",
       "21                        56            141      436                633   \n",
       "22                       128            123      381                632   \n",
       "23                        42            138      444                624   \n",
       "24                        74            137      403                614   \n",
       "25                         2            144      445                591   \n",
       "26                        46            133      435                614   \n",
       "27                       282            119      208                609   \n",
       "28                        60            118      450                628   \n",
       "29                        37            142      433                612   \n",
       "31                         1            148      443                592   \n",
       "32                         4            147      435                586   \n",
       "33                         6            148      441                595   \n",
       "35                         8            147      430                585   \n",
       "37                       121            118      390                629   \n",
       "38                       460              9       60                529   \n",
       "39                       242             94      273                609   \n",
       "41                       231             64      309                604   \n",
       "43                        91            114      407                612   \n",
       "44                        14            156      439                609   \n",
       "45                        19            146      452                617   \n",
       "47                        91            139      380                610   \n",
       "48                       287            106      222                615   \n",
       "49                        16            144      452                612   \n",
       "52                       532              6        6                544   \n",
       "53                         6            126      455                587   \n",
       "54                       225             67      290                582   \n",
       "55                       107             90      382                579   \n",
       "56                        68             97      414                579   \n",
       "57                       192             85      311                588   \n",
       "58                        45             91      443                579   \n",
       "59                       183             58      325                566   \n",
       "60                        55             69      422                546   \n",
       "61                        78             79      407                564   \n",
       "62                       466             39       21                526   \n",
       "63                        58             75      410                543   \n",
       "64                       498              4       13                515   \n",
       "65                        17             81      449                547   \n",
       "66                       131             75      345                551   \n",
       "67                       413             32       24                469   \n",
       "68                        38             75      438                551   \n",
       "69                       326              3      122                451   \n",
       "70                       175              6      265                446   \n",
       "71                         1             10      264                275   \n",
       "72                       134              3      148                285   \n",
       "73                       145              3       97                245   \n",
       "74                         1              4      185                190   \n",
       "75                         3              4      122                129   \n",
       "76                         4              4      120                128   \n",
       "77                         3              4      119                126   \n",
       "78                        15              4      108                127   \n",
       "79                         1              4      123                128   \n",
       "80                         5              4      119                128   \n",
       "81                        12              4      112                128   \n",
       "82                        27              4       97                128   \n",
       "83                       120              3        5                128   \n",
       "84                         1              4       38                 43   \n",
       "85                         3              4       36                 43   \n",
       "86                         0              4       39                 43   \n",
       "87                         0              4       39                 43   \n",
       "88                         0              4       39                 43   \n",
       "89                         0              4       39                 43   \n",
       "90                         0              4       39                 43   \n",
       "91                         0              4       39                 43   \n",
       "92                         0              4       39                 43   \n",
       "93                         0              4       39                 43   \n",
       "94                        51              1       14                 66   \n",
       "95                        60              0        6                 66   \n",
       "Total de medições      11051           5805    21674              38530   \n",
       "\n",
       "condicao           Porcentagem Imprópria  Porcentagem Própria  \\\n",
       "ponto                                                           \n",
       "1                              99.585921             0.000000   \n",
       "2                              98.151951             1.232033   \n",
       "3                              99.436620             0.281690   \n",
       "4                              57.310924            36.470588   \n",
       "5                              67.445743            27.879800   \n",
       "6                              56.879195            31.711409   \n",
       "7                              63.406408            30.691400   \n",
       "8                              98.586572             1.236749   \n",
       "9                               3.267974            74.346405   \n",
       "10                             18.226601            58.784893   \n",
       "11                             97.785978             0.922509   \n",
       "12                             20.130933            60.392799   \n",
       "13                              8.401977            70.840198   \n",
       "14                             27.823241            51.227496   \n",
       "15                              3.114754            74.098361   \n",
       "16                              2.439024            74.634146   \n",
       "17                              0.511945            75.255973   \n",
       "18                              4.051864            72.771475   \n",
       "19                              5.705230            71.315372   \n",
       "20                             16.185897            62.339744   \n",
       "21                              8.846761            68.878357   \n",
       "22                             20.253165            60.284810   \n",
       "23                              6.730769            71.153846   \n",
       "24                             12.052117            65.635179   \n",
       "25                              0.338409            75.296108   \n",
       "26                              7.491857            70.846906   \n",
       "27                             46.305419            34.154351   \n",
       "28                              9.554140            71.656051   \n",
       "29                              6.045752            70.751634   \n",
       "31                              0.168919            74.831081   \n",
       "32                              0.682594            74.232082   \n",
       "33                              1.008403            74.117647   \n",
       "35                              1.367521            73.504274   \n",
       "37                             19.236884            62.003180   \n",
       "38                             86.956522            11.342155   \n",
       "39                             39.737274            44.827586   \n",
       "41                             38.245033            51.158940   \n",
       "43                             14.869281            66.503268   \n",
       "44                              2.298851            72.085386   \n",
       "45                              3.079417            73.257699   \n",
       "47                             14.918033            62.295082   \n",
       "48                             46.666667            36.097561   \n",
       "49                              2.614379            73.856209   \n",
       "52                             97.794118             1.102941   \n",
       "53                              1.022147            77.512777   \n",
       "54                             38.659794            49.828179   \n",
       "55                             18.480138            65.975820   \n",
       "56                             11.744387            71.502591   \n",
       "57                             32.653061            52.891156   \n",
       "58                              7.772021            76.511226   \n",
       "59                             32.332155            57.420495   \n",
       "60                             10.073260            77.289377   \n",
       "61                             13.829787            72.163121   \n",
       "62                             88.593156             3.992395   \n",
       "63                             10.681400            75.506446   \n",
       "64                             96.699029             2.524272   \n",
       "65                              3.107861            82.084095   \n",
       "66                             23.774955            62.613430   \n",
       "67                             88.059701             5.117271   \n",
       "68                              6.896552            79.491833   \n",
       "69                             72.283814            27.050998   \n",
       "70                             39.237668            59.417040   \n",
       "71                              0.363636            96.000000   \n",
       "72                             47.017544            51.929825   \n",
       "73                             59.183673            39.591837   \n",
       "74                              0.526316            97.368421   \n",
       "75                              2.325581            94.573643   \n",
       "76                              3.125000            93.750000   \n",
       "77                              2.380952            94.444444   \n",
       "78                             11.811024            85.039370   \n",
       "79                              0.781250            96.093750   \n",
       "80                              3.906250            92.968750   \n",
       "81                              9.375000            87.500000   \n",
       "82                             21.093750            75.781250   \n",
       "83                             93.750000             3.906250   \n",
       "84                              2.325581            88.372093   \n",
       "85                              6.976744            83.720930   \n",
       "86                              0.000000            90.697674   \n",
       "87                              0.000000            90.697674   \n",
       "88                              0.000000            90.697674   \n",
       "89                              0.000000            90.697674   \n",
       "90                              0.000000            90.697674   \n",
       "91                              0.000000            90.697674   \n",
       "92                              0.000000            90.697674   \n",
       "93                              0.000000            90.697674   \n",
       "94                             77.272727            21.212121   \n",
       "95                             90.909091             9.090909   \n",
       "Total de medições              28.681547            56.252271   \n",
       "\n",
       "condicao           Porcentagem Indeterminado  \n",
       "ponto                                         \n",
       "1                                   0.414079  \n",
       "2                                   0.616016  \n",
       "3                                   0.281690  \n",
       "4                                   6.218487  \n",
       "5                                   4.674457  \n",
       "6                                  11.409396  \n",
       "7                                   5.902192  \n",
       "8                                   0.176678  \n",
       "9                                  22.385621  \n",
       "10                                 22.988506  \n",
       "11                                  1.291513  \n",
       "12                                 19.476268  \n",
       "13                                 20.757825  \n",
       "14                                 20.949264  \n",
       "15                                 22.786885  \n",
       "16                                 22.926829  \n",
       "17                                 24.232082  \n",
       "18                                 23.176661  \n",
       "19                                 22.979398  \n",
       "20                                 21.474359  \n",
       "21                                 22.274882  \n",
       "22                                 19.462025  \n",
       "23                                 22.115385  \n",
       "24                                 22.312704  \n",
       "25                                 24.365482  \n",
       "26                                 21.661238  \n",
       "27                                 19.540230  \n",
       "28                                 18.789809  \n",
       "29                                 23.202614  \n",
       "31                                 25.000000  \n",
       "32                                 25.085324  \n",
       "33                                 24.873950  \n",
       "35                                 25.128205  \n",
       "37                                 18.759936  \n",
       "38                                  1.701323  \n",
       "39                                 15.435140  \n",
       "41                                 10.596026  \n",
       "43                                 18.627451  \n",
       "44                                 25.615764  \n",
       "45                                 23.662885  \n",
       "47                                 22.786885  \n",
       "48                                 17.235772  \n",
       "49                                 23.529412  \n",
       "52                                  1.102941  \n",
       "53                                 21.465077  \n",
       "54                                 11.512027  \n",
       "55                                 15.544041  \n",
       "56                                 16.753022  \n",
       "57                                 14.455782  \n",
       "58                                 15.716753  \n",
       "59                                 10.247350  \n",
       "60                                 12.637363  \n",
       "61                                 14.007092  \n",
       "62                                  7.414449  \n",
       "63                                 13.812155  \n",
       "64                                  0.776699  \n",
       "65                                 14.808044  \n",
       "66                                 13.611615  \n",
       "67                                  6.823028  \n",
       "68                                 13.611615  \n",
       "69                                  0.665188  \n",
       "70                                  1.345291  \n",
       "71                                  3.636364  \n",
       "72                                  1.052632  \n",
       "73                                  1.224490  \n",
       "74                                  2.105263  \n",
       "75                                  3.100775  \n",
       "76                                  3.125000  \n",
       "77                                  3.174603  \n",
       "78                                  3.149606  \n",
       "79                                  3.125000  \n",
       "80                                  3.125000  \n",
       "81                                  3.125000  \n",
       "82                                  3.125000  \n",
       "83                                  2.343750  \n",
       "84                                  9.302326  \n",
       "85                                  9.302326  \n",
       "86                                  9.302326  \n",
       "87                                  9.302326  \n",
       "88                                  9.302326  \n",
       "89                                  9.302326  \n",
       "90                                  9.302326  \n",
       "91                                  9.302326  \n",
       "92                                  9.302326  \n",
       "93                                  9.302326  \n",
       "94                                  1.515152  \n",
       "95                                  0.000000  \n",
       "Total de medições                  15.066182  "
      ],
      "text/html": "<div>\n<style scoped>\n    .dataframe tbody tr th:only-of-type {\n        vertical-align: middle;\n    }\n\n    .dataframe tbody tr th {\n        vertical-align: top;\n    }\n\n    .dataframe thead th {\n        text-align: right;\n    }\n</style>\n<table border=\"1\" class=\"dataframe\">\n  <thead>\n    <tr style=\"text-align: right;\">\n      <th>condicao</th>\n      <th>IMPRÓPRIA</th>\n      <th>INDETERMINADO</th>\n      <th>PRÓPRIA</th>\n      <th>Total de medições</th>\n      <th>Porcentagem Imprópria</th>\n      <th>Porcentagem Própria</th>\n      <th>Porcentagem Indeterminado</th>\n    </tr>\n    <tr>\n      <th>ponto</th>\n      <th></th>\n      <th></th>\n      <th></th>\n      <th></th>\n      <th></th>\n      <th></th>\n      <th></th>\n    </tr>\n  </thead>\n  <tbody>\n    <tr>\n      <th>1</th>\n      <td>481</td>\n      <td>2</td>\n      <td>0</td>\n      <td>483</td>\n      <td>99.585921</td>\n      <td>0.000000</td>\n      <td>0.414079</td>\n    </tr>\n    <tr>\n      <th>2</th>\n      <td>478</td>\n      <td>3</td>\n      <td>6</td>\n      <td>487</td>\n      <td>98.151951</td>\n      <td>1.232033</td>\n      <td>0.616016</td>\n    </tr>\n    <tr>\n      <th>3</th>\n      <td>353</td>\n      <td>1</td>\n      <td>1</td>\n      <td>355</td>\n      <td>99.436620</td>\n      <td>0.281690</td>\n      <td>0.281690</td>\n    </tr>\n    <tr>\n      <th>4</th>\n      <td>341</td>\n      <td>37</td>\n      <td>217</td>\n      <td>595</td>\n      <td>57.310924</td>\n      <td>36.470588</td>\n      <td>6.218487</td>\n    </tr>\n    <tr>\n      <th>5</th>\n      <td>404</td>\n      <td>28</td>\n      <td>167</td>\n      <td>599</td>\n      <td>67.445743</td>\n      <td>27.879800</td>\n      <td>4.674457</td>\n    </tr>\n    <tr>\n      <th>6</th>\n      <td>339</td>\n      <td>68</td>\n      <td>189</td>\n      <td>596</td>\n      <td>56.879195</td>\n      <td>31.711409</td>\n      <td>11.409396</td>\n    </tr>\n    <tr>\n      <th>7</th>\n      <td>376</td>\n      <td>35</td>\n      <td>182</td>\n      <td>593</td>\n      <td>63.406408</td>\n      <td>30.691400</td>\n      <td>5.902192</td>\n    </tr>\n    <tr>\n      <th>8</th>\n      <td>558</td>\n      <td>1</td>\n      <td>7</td>\n      <td>566</td>\n      <td>98.586572</td>\n      <td>1.236749</td>\n      <td>0.176678</td>\n    </tr>\n    <tr>\n      <th>9</th>\n      <td>20</td>\n      <td>137</td>\n      <td>455</td>\n      <td>612</td>\n      <td>3.267974</td>\n      <td>74.346405</td>\n      <td>22.385621</td>\n    </tr>\n    <tr>\n      <th>10</th>\n      <td>111</td>\n      <td>140</td>\n      <td>358</td>\n      <td>609</td>\n      <td>18.226601</td>\n      <td>58.784893</td>\n      <td>22.988506</td>\n    </tr>\n    <tr>\n      <th>11</th>\n      <td>530</td>\n      <td>7</td>\n      <td>5</td>\n      <td>542</td>\n      <td>97.785978</td>\n      <td>0.922509</td>\n      <td>1.291513</td>\n    </tr>\n    <tr>\n      <th>12</th>\n      <td>123</td>\n      <td>119</td>\n      <td>369</td>\n      <td>611</td>\n      <td>20.130933</td>\n      <td>60.392799</td>\n      <td>19.476268</td>\n    </tr>\n    <tr>\n      <th>13</th>\n      <td>51</td>\n      <td>126</td>\n      <td>430</td>\n      <td>607</td>\n      <td>8.401977</td>\n      <td>70.840198</td>\n      <td>20.757825</td>\n    </tr>\n    <tr>\n      <th>14</th>\n      <td>170</td>\n      <td>128</td>\n      <td>313</td>\n      <td>611</td>\n      <td>27.823241</td>\n      <td>51.227496</td>\n      <td>20.949264</td>\n    </tr>\n    <tr>\n      <th>15</th>\n      <td>19</td>\n      <td>139</td>\n      <td>452</td>\n      <td>610</td>\n      <td>3.114754</td>\n      <td>74.098361</td>\n      <td>22.786885</td>\n    </tr>\n    <tr>\n      <th>16</th>\n      <td>15</td>\n      <td>141</td>\n      <td>459</td>\n      <td>615</td>\n      <td>2.439024</td>\n      <td>74.634146</td>\n      <td>22.926829</td>\n    </tr>\n    <tr>\n      <th>17</th>\n      <td>3</td>\n      <td>142</td>\n      <td>441</td>\n      <td>586</td>\n      <td>0.511945</td>\n      <td>75.255973</td>\n      <td>24.232082</td>\n    </tr>\n    <tr>\n      <th>18</th>\n      <td>25</td>\n      <td>143</td>\n      <td>449</td>\n      <td>617</td>\n      <td>4.051864</td>\n      <td>72.771475</td>\n      <td>23.176661</td>\n    </tr>\n    <tr>\n      <th>19</th>\n      <td>36</td>\n      <td>145</td>\n      <td>450</td>\n      <td>631</td>\n      <td>5.705230</td>\n      <td>71.315372</td>\n      <td>22.979398</td>\n    </tr>\n    <tr>\n      <th>20</th>\n      <td>101</td>\n      <td>134</td>\n      <td>389</td>\n      <td>624</td>\n      <td>16.185897</td>\n      <td>62.339744</td>\n      <td>21.474359</td>\n    </tr>\n    <tr>\n      <th>21</th>\n      <td>56</td>\n      <td>141</td>\n      <td>436</td>\n      <td>633</td>\n      <td>8.846761</td>\n      <td>68.878357</td>\n      <td>22.274882</td>\n    </tr>\n    <tr>\n      <th>22</th>\n      <td>128</td>\n      <td>123</td>\n      <td>381</td>\n      <td>632</td>\n      <td>20.253165</td>\n      <td>60.284810</td>\n      <td>19.462025</td>\n    </tr>\n    <tr>\n      <th>23</th>\n      <td>42</td>\n      <td>138</td>\n      <td>444</td>\n      <td>624</td>\n      <td>6.730769</td>\n      <td>71.153846</td>\n      <td>22.115385</td>\n    </tr>\n    <tr>\n      <th>24</th>\n      <td>74</td>\n      <td>137</td>\n      <td>403</td>\n      <td>614</td>\n      <td>12.052117</td>\n      <td>65.635179</td>\n      <td>22.312704</td>\n    </tr>\n    <tr>\n      <th>25</th>\n      <td>2</td>\n      <td>144</td>\n      <td>445</td>\n      <td>591</td>\n      <td>0.338409</td>\n      <td>75.296108</td>\n      <td>24.365482</td>\n    </tr>\n    <tr>\n      <th>26</th>\n      <td>46</td>\n      <td>133</td>\n      <td>435</td>\n      <td>614</td>\n      <td>7.491857</td>\n      <td>70.846906</td>\n      <td>21.661238</td>\n    </tr>\n    <tr>\n      <th>27</th>\n      <td>282</td>\n      <td>119</td>\n      <td>208</td>\n      <td>609</td>\n      <td>46.305419</td>\n      <td>34.154351</td>\n      <td>19.540230</td>\n    </tr>\n    <tr>\n      <th>28</th>\n      <td>60</td>\n      <td>118</td>\n      <td>450</td>\n      <td>628</td>\n      <td>9.554140</td>\n      <td>71.656051</td>\n      <td>18.789809</td>\n    </tr>\n    <tr>\n      <th>29</th>\n      <td>37</td>\n      <td>142</td>\n      <td>433</td>\n      <td>612</td>\n      <td>6.045752</td>\n      <td>70.751634</td>\n      <td>23.202614</td>\n    </tr>\n    <tr>\n      <th>31</th>\n      <td>1</td>\n      <td>148</td>\n      <td>443</td>\n      <td>592</td>\n      <td>0.168919</td>\n      <td>74.831081</td>\n      <td>25.000000</td>\n    </tr>\n    <tr>\n      <th>32</th>\n      <td>4</td>\n      <td>147</td>\n      <td>435</td>\n      <td>586</td>\n      <td>0.682594</td>\n      <td>74.232082</td>\n      <td>25.085324</td>\n    </tr>\n    <tr>\n      <th>33</th>\n      <td>6</td>\n      <td>148</td>\n      <td>441</td>\n      <td>595</td>\n      <td>1.008403</td>\n      <td>74.117647</td>\n      <td>24.873950</td>\n    </tr>\n    <tr>\n      <th>35</th>\n      <td>8</td>\n      <td>147</td>\n      <td>430</td>\n      <td>585</td>\n      <td>1.367521</td>\n      <td>73.504274</td>\n      <td>25.128205</td>\n    </tr>\n    <tr>\n      <th>37</th>\n      <td>121</td>\n      <td>118</td>\n      <td>390</td>\n      <td>629</td>\n      <td>19.236884</td>\n      <td>62.003180</td>\n      <td>18.759936</td>\n    </tr>\n    <tr>\n      <th>38</th>\n      <td>460</td>\n      <td>9</td>\n      <td>60</td>\n      <td>529</td>\n      <td>86.956522</td>\n      <td>11.342155</td>\n      <td>1.701323</td>\n    </tr>\n    <tr>\n      <th>39</th>\n      <td>242</td>\n      <td>94</td>\n      <td>273</td>\n      <td>609</td>\n      <td>39.737274</td>\n      <td>44.827586</td>\n      <td>15.435140</td>\n    </tr>\n    <tr>\n      <th>41</th>\n      <td>231</td>\n      <td>64</td>\n      <td>309</td>\n      <td>604</td>\n      <td>38.245033</td>\n      <td>51.158940</td>\n      <td>10.596026</td>\n    </tr>\n    <tr>\n      <th>43</th>\n      <td>91</td>\n      <td>114</td>\n      <td>407</td>\n      <td>612</td>\n      <td>14.869281</td>\n      <td>66.503268</td>\n      <td>18.627451</td>\n    </tr>\n    <tr>\n      <th>44</th>\n      <td>14</td>\n      <td>156</td>\n      <td>439</td>\n      <td>609</td>\n      <td>2.298851</td>\n      <td>72.085386</td>\n      <td>25.615764</td>\n    </tr>\n    <tr>\n      <th>45</th>\n      <td>19</td>\n      <td>146</td>\n      <td>452</td>\n      <td>617</td>\n      <td>3.079417</td>\n      <td>73.257699</td>\n      <td>23.662885</td>\n    </tr>\n    <tr>\n      <th>47</th>\n      <td>91</td>\n      <td>139</td>\n      <td>380</td>\n      <td>610</td>\n      <td>14.918033</td>\n      <td>62.295082</td>\n      <td>22.786885</td>\n    </tr>\n    <tr>\n      <th>48</th>\n      <td>287</td>\n      <td>106</td>\n      <td>222</td>\n      <td>615</td>\n      <td>46.666667</td>\n      <td>36.097561</td>\n      <td>17.235772</td>\n    </tr>\n    <tr>\n      <th>49</th>\n      <td>16</td>\n      <td>144</td>\n      <td>452</td>\n      <td>612</td>\n      <td>2.614379</td>\n      <td>73.856209</td>\n      <td>23.529412</td>\n    </tr>\n    <tr>\n      <th>52</th>\n      <td>532</td>\n      <td>6</td>\n      <td>6</td>\n      <td>544</td>\n      <td>97.794118</td>\n      <td>1.102941</td>\n      <td>1.102941</td>\n    </tr>\n    <tr>\n      <th>53</th>\n      <td>6</td>\n      <td>126</td>\n      <td>455</td>\n      <td>587</td>\n      <td>1.022147</td>\n      <td>77.512777</td>\n      <td>21.465077</td>\n    </tr>\n    <tr>\n      <th>54</th>\n      <td>225</td>\n      <td>67</td>\n      <td>290</td>\n      <td>582</td>\n      <td>38.659794</td>\n      <td>49.828179</td>\n      <td>11.512027</td>\n    </tr>\n    <tr>\n      <th>55</th>\n      <td>107</td>\n      <td>90</td>\n      <td>382</td>\n      <td>579</td>\n      <td>18.480138</td>\n      <td>65.975820</td>\n      <td>15.544041</td>\n    </tr>\n    <tr>\n      <th>56</th>\n      <td>68</td>\n      <td>97</td>\n      <td>414</td>\n      <td>579</td>\n      <td>11.744387</td>\n      <td>71.502591</td>\n      <td>16.753022</td>\n    </tr>\n    <tr>\n      <th>57</th>\n      <td>192</td>\n      <td>85</td>\n      <td>311</td>\n      <td>588</td>\n      <td>32.653061</td>\n      <td>52.891156</td>\n      <td>14.455782</td>\n    </tr>\n    <tr>\n      <th>58</th>\n      <td>45</td>\n      <td>91</td>\n      <td>443</td>\n      <td>579</td>\n      <td>7.772021</td>\n      <td>76.511226</td>\n      <td>15.716753</td>\n    </tr>\n    <tr>\n      <th>59</th>\n      <td>183</td>\n      <td>58</td>\n      <td>325</td>\n      <td>566</td>\n      <td>32.332155</td>\n      <td>57.420495</td>\n      <td>10.247350</td>\n    </tr>\n    <tr>\n      <th>60</th>\n      <td>55</td>\n      <td>69</td>\n      <td>422</td>\n      <td>546</td>\n      <td>10.073260</td>\n      <td>77.289377</td>\n      <td>12.637363</td>\n    </tr>\n    <tr>\n      <th>61</th>\n      <td>78</td>\n      <td>79</td>\n      <td>407</td>\n      <td>564</td>\n      <td>13.829787</td>\n      <td>72.163121</td>\n      <td>14.007092</td>\n    </tr>\n    <tr>\n      <th>62</th>\n      <td>466</td>\n      <td>39</td>\n      <td>21</td>\n      <td>526</td>\n      <td>88.593156</td>\n      <td>3.992395</td>\n      <td>7.414449</td>\n    </tr>\n    <tr>\n      <th>63</th>\n      <td>58</td>\n      <td>75</td>\n      <td>410</td>\n      <td>543</td>\n      <td>10.681400</td>\n      <td>75.506446</td>\n      <td>13.812155</td>\n    </tr>\n    <tr>\n      <th>64</th>\n      <td>498</td>\n      <td>4</td>\n      <td>13</td>\n      <td>515</td>\n      <td>96.699029</td>\n      <td>2.524272</td>\n      <td>0.776699</td>\n    </tr>\n    <tr>\n      <th>65</th>\n      <td>17</td>\n      <td>81</td>\n      <td>449</td>\n      <td>547</td>\n      <td>3.107861</td>\n      <td>82.084095</td>\n      <td>14.808044</td>\n    </tr>\n    <tr>\n      <th>66</th>\n      <td>131</td>\n      <td>75</td>\n      <td>345</td>\n      <td>551</td>\n      <td>23.774955</td>\n      <td>62.613430</td>\n      <td>13.611615</td>\n    </tr>\n    <tr>\n      <th>67</th>\n      <td>413</td>\n      <td>32</td>\n      <td>24</td>\n      <td>469</td>\n      <td>88.059701</td>\n      <td>5.117271</td>\n      <td>6.823028</td>\n    </tr>\n    <tr>\n      <th>68</th>\n      <td>38</td>\n      <td>75</td>\n      <td>438</td>\n      <td>551</td>\n      <td>6.896552</td>\n      <td>79.491833</td>\n      <td>13.611615</td>\n    </tr>\n    <tr>\n      <th>69</th>\n      <td>326</td>\n      <td>3</td>\n      <td>122</td>\n      <td>451</td>\n      <td>72.283814</td>\n      <td>27.050998</td>\n      <td>0.665188</td>\n    </tr>\n    <tr>\n      <th>70</th>\n      <td>175</td>\n      <td>6</td>\n      <td>265</td>\n      <td>446</td>\n      <td>39.237668</td>\n      <td>59.417040</td>\n      <td>1.345291</td>\n    </tr>\n    <tr>\n      <th>71</th>\n      <td>1</td>\n      <td>10</td>\n      <td>264</td>\n      <td>275</td>\n      <td>0.363636</td>\n      <td>96.000000</td>\n      <td>3.636364</td>\n    </tr>\n    <tr>\n      <th>72</th>\n      <td>134</td>\n      <td>3</td>\n      <td>148</td>\n      <td>285</td>\n      <td>47.017544</td>\n      <td>51.929825</td>\n      <td>1.052632</td>\n    </tr>\n    <tr>\n      <th>73</th>\n      <td>145</td>\n      <td>3</td>\n      <td>97</td>\n      <td>245</td>\n      <td>59.183673</td>\n      <td>39.591837</td>\n      <td>1.224490</td>\n    </tr>\n    <tr>\n      <th>74</th>\n      <td>1</td>\n      <td>4</td>\n      <td>185</td>\n      <td>190</td>\n      <td>0.526316</td>\n      <td>97.368421</td>\n      <td>2.105263</td>\n    </tr>\n    <tr>\n      <th>75</th>\n      <td>3</td>\n      <td>4</td>\n      <td>122</td>\n      <td>129</td>\n      <td>2.325581</td>\n      <td>94.573643</td>\n      <td>3.100775</td>\n    </tr>\n    <tr>\n      <th>76</th>\n      <td>4</td>\n      <td>4</td>\n      <td>120</td>\n      <td>128</td>\n      <td>3.125000</td>\n      <td>93.750000</td>\n      <td>3.125000</td>\n    </tr>\n    <tr>\n      <th>77</th>\n      <td>3</td>\n      <td>4</td>\n      <td>119</td>\n      <td>126</td>\n      <td>2.380952</td>\n      <td>94.444444</td>\n      <td>3.174603</td>\n    </tr>\n    <tr>\n      <th>78</th>\n      <td>15</td>\n      <td>4</td>\n      <td>108</td>\n      <td>127</td>\n      <td>11.811024</td>\n      <td>85.039370</td>\n      <td>3.149606</td>\n    </tr>\n    <tr>\n      <th>79</th>\n      <td>1</td>\n      <td>4</td>\n      <td>123</td>\n      <td>128</td>\n      <td>0.781250</td>\n      <td>96.093750</td>\n      <td>3.125000</td>\n    </tr>\n    <tr>\n      <th>80</th>\n      <td>5</td>\n      <td>4</td>\n      <td>119</td>\n      <td>128</td>\n      <td>3.906250</td>\n      <td>92.968750</td>\n      <td>3.125000</td>\n    </tr>\n    <tr>\n      <th>81</th>\n      <td>12</td>\n      <td>4</td>\n      <td>112</td>\n      <td>128</td>\n      <td>9.375000</td>\n      <td>87.500000</td>\n      <td>3.125000</td>\n    </tr>\n    <tr>\n      <th>82</th>\n      <td>27</td>\n      <td>4</td>\n      <td>97</td>\n      <td>128</td>\n      <td>21.093750</td>\n      <td>75.781250</td>\n      <td>3.125000</td>\n    </tr>\n    <tr>\n      <th>83</th>\n      <td>120</td>\n      <td>3</td>\n      <td>5</td>\n      <td>128</td>\n      <td>93.750000</td>\n      <td>3.906250</td>\n      <td>2.343750</td>\n    </tr>\n    <tr>\n      <th>84</th>\n      <td>1</td>\n      <td>4</td>\n      <td>38</td>\n      <td>43</td>\n      <td>2.325581</td>\n      <td>88.372093</td>\n      <td>9.302326</td>\n    </tr>\n    <tr>\n      <th>85</th>\n      <td>3</td>\n      <td>4</td>\n      <td>36</td>\n      <td>43</td>\n      <td>6.976744</td>\n      <td>83.720930</td>\n      <td>9.302326</td>\n    </tr>\n    <tr>\n      <th>86</th>\n      <td>0</td>\n      <td>4</td>\n      <td>39</td>\n      <td>43</td>\n      <td>0.000000</td>\n      <td>90.697674</td>\n      <td>9.302326</td>\n    </tr>\n    <tr>\n      <th>87</th>\n      <td>0</td>\n      <td>4</td>\n      <td>39</td>\n      <td>43</td>\n      <td>0.000000</td>\n      <td>90.697674</td>\n      <td>9.302326</td>\n    </tr>\n    <tr>\n      <th>88</th>\n      <td>0</td>\n      <td>4</td>\n      <td>39</td>\n      <td>43</td>\n      <td>0.000000</td>\n      <td>90.697674</td>\n      <td>9.302326</td>\n    </tr>\n    <tr>\n      <th>89</th>\n      <td>0</td>\n      <td>4</td>\n      <td>39</td>\n      <td>43</td>\n      <td>0.000000</td>\n      <td>90.697674</td>\n      <td>9.302326</td>\n    </tr>\n    <tr>\n      <th>90</th>\n      <td>0</td>\n      <td>4</td>\n      <td>39</td>\n      <td>43</td>\n      <td>0.000000</td>\n      <td>90.697674</td>\n      <td>9.302326</td>\n    </tr>\n    <tr>\n      <th>91</th>\n      <td>0</td>\n      <td>4</td>\n      <td>39</td>\n      <td>43</td>\n      <td>0.000000</td>\n      <td>90.697674</td>\n      <td>9.302326</td>\n    </tr>\n    <tr>\n      <th>92</th>\n      <td>0</td>\n      <td>4</td>\n      <td>39</td>\n      <td>43</td>\n      <td>0.000000</td>\n      <td>90.697674</td>\n      <td>9.302326</td>\n    </tr>\n    <tr>\n      <th>93</th>\n      <td>0</td>\n      <td>4</td>\n      <td>39</td>\n      <td>43</td>\n      <td>0.000000</td>\n      <td>90.697674</td>\n      <td>9.302326</td>\n    </tr>\n    <tr>\n      <th>94</th>\n      <td>51</td>\n      <td>1</td>\n      <td>14</td>\n      <td>66</td>\n      <td>77.272727</td>\n      <td>21.212121</td>\n      <td>1.515152</td>\n    </tr>\n    <tr>\n      <th>95</th>\n      <td>60</td>\n      <td>0</td>\n      <td>6</td>\n      <td>66</td>\n      <td>90.909091</td>\n      <td>9.090909</td>\n      <td>0.000000</td>\n    </tr>\n    <tr>\n      <th>Total de medições</th>\n      <td>11051</td>\n      <td>5805</td>\n      <td>21674</td>\n      <td>38530</td>\n      <td>28.681547</td>\n      <td>56.252271</td>\n      <td>15.066182</td>\n    </tr>\n  </tbody>\n</table>\n</div>"
     },
     "metadata": {},
     "execution_count": 70
    }
   ],
   "source": [
    "cross_condit = pd.crosstab(df.ponto, df.condicao, margins=True, margins_name='Total de medições')\n",
    "cross_condit['Porcentagem Imprópria'] = cross_condit['IMPRÓPRIA'] / cross_condit['Total de medições'] * 100\n",
    "cross_condit['Porcentagem Própria'] = cross_condit['PRÓPRIA'] / cross_condit['Total de medições'] * 100\n",
    "cross_condit['Porcentagem Indeterminado'] = cross_condit['INDETERMINADO'] / cross_condit['Total de medições'] * 100\n",
    "cross_condit"
   ]
  },
  {
   "cell_type": "code",
   "execution_count": 115,
   "metadata": {},
   "outputs": [
    {
     "output_type": "execute_result",
     "data": {
      "text/plain": [
       "                 mean  median           var          std\n",
       "chuva                                                   \n",
       "Ausente   1451.405068   110.0  1.695830e+07  4118.045096\n",
       "Fraca     1907.149051   170.0  2.252624e+07  4746.181827\n",
       "Intensa   3453.657417   355.0  4.233171e+07  6506.282063\n",
       "Moderada  2239.564595   230.0  2.656132e+07  5153.767336"
      ],
      "text/html": "<div>\n<style scoped>\n    .dataframe tbody tr th:only-of-type {\n        vertical-align: middle;\n    }\n\n    .dataframe tbody tr th {\n        vertical-align: top;\n    }\n\n    .dataframe thead th {\n        text-align: right;\n    }\n</style>\n<table border=\"1\" class=\"dataframe\">\n  <thead>\n    <tr style=\"text-align: right;\">\n      <th></th>\n      <th>mean</th>\n      <th>median</th>\n      <th>var</th>\n      <th>std</th>\n    </tr>\n    <tr>\n      <th>chuva</th>\n      <th></th>\n      <th></th>\n      <th></th>\n      <th></th>\n    </tr>\n  </thead>\n  <tbody>\n    <tr>\n      <th>Ausente</th>\n      <td>1451.405068</td>\n      <td>110.0</td>\n      <td>1.695830e+07</td>\n      <td>4118.045096</td>\n    </tr>\n    <tr>\n      <th>Fraca</th>\n      <td>1907.149051</td>\n      <td>170.0</td>\n      <td>2.252624e+07</td>\n      <td>4746.181827</td>\n    </tr>\n    <tr>\n      <th>Intensa</th>\n      <td>3453.657417</td>\n      <td>355.0</td>\n      <td>4.233171e+07</td>\n      <td>6506.282063</td>\n    </tr>\n    <tr>\n      <th>Moderada</th>\n      <td>2239.564595</td>\n      <td>230.0</td>\n      <td>2.656132e+07</td>\n      <td>5153.767336</td>\n    </tr>\n  </tbody>\n</table>\n</div>"
     },
     "metadata": {},
     "execution_count": 115
    }
   ],
   "source": [
    "summary_stats_chuva = df.groupby('chuva')['e_coli'].agg(['mean', 'median', 'var', 'std'])\n",
    "summary_stats_chuva"
   ]
  },
  {
   "cell_type": "code",
   "execution_count": 116,
   "metadata": {},
   "outputs": [
    {
     "output_type": "execute_result",
     "data": {
      "text/plain": [
       "                                                                mean  median  \\\n",
       "agua_doce desembocadura_praia ponto_perto_desembocadura                        \n",
       "Não       Não                 Não                        1502.202651   230.0   \n",
       "          Sim                 Não                         999.493018   220.0   \n",
       "                              Sim                        2128.683595   230.0   \n",
       "Sim       Não                 Não                        2434.832729   230.0   \n",
       "          Sim                 Sim                        4136.105317   904.0   \n",
       "\n",
       "                                                                  var  \\\n",
       "agua_doce desembocadura_praia ponto_perto_desembocadura                 \n",
       "Não       Não                 Não                        1.675851e+07   \n",
       "          Sim                 Não                        1.067561e+07   \n",
       "                              Sim                        2.766192e+07   \n",
       "Sim       Não                 Não                        2.868200e+07   \n",
       "          Sim                 Sim                        4.149541e+07   \n",
       "\n",
       "                                                                 std  \n",
       "agua_doce desembocadura_praia ponto_perto_desembocadura               \n",
       "Não       Não                 Não                        4093.715788  \n",
       "          Sim                 Não                        3267.355073  \n",
       "                              Sim                        5259.460388  \n",
       "Sim       Não                 Não                        5355.558187  \n",
       "          Sim                 Sim                        6441.693209  "
      ],
      "text/html": "<div>\n<style scoped>\n    .dataframe tbody tr th:only-of-type {\n        vertical-align: middle;\n    }\n\n    .dataframe tbody tr th {\n        vertical-align: top;\n    }\n\n    .dataframe thead th {\n        text-align: right;\n    }\n</style>\n<table border=\"1\" class=\"dataframe\">\n  <thead>\n    <tr style=\"text-align: right;\">\n      <th></th>\n      <th></th>\n      <th></th>\n      <th>mean</th>\n      <th>median</th>\n      <th>var</th>\n      <th>std</th>\n    </tr>\n    <tr>\n      <th>agua_doce</th>\n      <th>desembocadura_praia</th>\n      <th>ponto_perto_desembocadura</th>\n      <th></th>\n      <th></th>\n      <th></th>\n      <th></th>\n    </tr>\n  </thead>\n  <tbody>\n    <tr>\n      <th rowspan=\"3\" valign=\"top\">Não</th>\n      <th>Não</th>\n      <th>Não</th>\n      <td>1502.202651</td>\n      <td>230.0</td>\n      <td>1.675851e+07</td>\n      <td>4093.715788</td>\n    </tr>\n    <tr>\n      <th rowspan=\"2\" valign=\"top\">Sim</th>\n      <th>Não</th>\n      <td>999.493018</td>\n      <td>220.0</td>\n      <td>1.067561e+07</td>\n      <td>3267.355073</td>\n    </tr>\n    <tr>\n      <th>Sim</th>\n      <td>2128.683595</td>\n      <td>230.0</td>\n      <td>2.766192e+07</td>\n      <td>5259.460388</td>\n    </tr>\n    <tr>\n      <th rowspan=\"2\" valign=\"top\">Sim</th>\n      <th>Não</th>\n      <th>Não</th>\n      <td>2434.832729</td>\n      <td>230.0</td>\n      <td>2.868200e+07</td>\n      <td>5355.558187</td>\n    </tr>\n    <tr>\n      <th>Sim</th>\n      <th>Sim</th>\n      <td>4136.105317</td>\n      <td>904.0</td>\n      <td>4.149541e+07</td>\n      <td>6441.693209</td>\n    </tr>\n  </tbody>\n</table>\n</div>"
     },
     "metadata": {},
     "execution_count": 116
    }
   ],
   "source": [
    "summary_stats_desemb = df.groupby(['agua_doce', 'desembocadura_praia', 'ponto_perto_desembocadura'])['e_coli'].agg(['mean', 'median', 'var', 'std'])\n",
    "summary_stats_desemb"
   ]
  },
  {
   "cell_type": "code",
   "execution_count": 14,
   "metadata": {},
   "outputs": [
    {
     "output_type": "execute_result",
     "data": {
      "text/plain": [
       "         dateTime       e_coli                                  \n",
       "            count         mean median           var          std\n",
       "dateTime                                                        \n",
       "1995            1   230.000000  230.0           NaN          NaN\n",
       "1996          110  3811.272727  230.0  6.721589e+07  8198.529865\n",
       "1997          877  3241.984036  230.0  4.768534e+07  6905.456974\n",
       "1998         1079  2761.770158  230.0  4.063192e+07  6374.317506\n",
       "1999         1309  2048.907563  230.0  2.911940e+07  5396.239356\n",
       "2000         1473  2085.919891  230.0  2.527086e+07  5027.013304\n",
       "2001         1497  1511.703407  230.0  1.341357e+07  3662.454537\n",
       "2002         1488  1414.313725  230.0  1.288907e+07  3590.134776\n",
       "2003         1652  1729.963680  130.0  1.791111e+07  4232.152206\n",
       "2004         1689  2127.850799  110.0  2.309654e+07  4805.885566\n",
       "2005         1643  1991.040779   80.0  2.138742e+07  4624.654006\n",
       "2006         1632  1643.117942   70.0  1.751166e+07  4184.693044\n",
       "2007         1671  1907.052127   80.0  2.047645e+07  4525.090980\n",
       "2008         1621  1727.898640  130.0  1.638149e+07  4047.405428\n",
       "2009         1657  1598.437690   80.0  1.631224e+07  4038.841458\n",
       "2010         1627  1833.581716  130.0  1.812533e+07  4257.385262\n",
       "2011         1544  1733.141192  230.0  1.668525e+07  4084.758692\n",
       "2012         1457  1197.975292  230.0  8.648448e+06  2940.824402\n",
       "2013         1544  1508.867422  230.0  1.241006e+07  3522.791284\n",
       "2014         1454  1343.835420  146.0  1.674729e+07  4092.345387\n",
       "2015         1695  2531.769440  175.0  3.638688e+07  6032.153935\n",
       "2016         2090  2284.388325  122.0  3.291698e+07  5737.331788\n",
       "2017         2057  2061.529412   98.0  3.009632e+07  5486.011214\n",
       "2018         2135  2117.314286  122.0  2.980602e+07  5459.489405\n",
       "2019         2506  1646.683160   86.0  2.326742e+07  4823.631101\n",
       "2020         1022  1609.102740   84.5  2.443135e+07  4942.808058"
      ],
      "text/html": "<div>\n<style scoped>\n    .dataframe tbody tr th:only-of-type {\n        vertical-align: middle;\n    }\n\n    .dataframe tbody tr th {\n        vertical-align: top;\n    }\n\n    .dataframe thead tr th {\n        text-align: left;\n    }\n\n    .dataframe thead tr:last-of-type th {\n        text-align: right;\n    }\n</style>\n<table border=\"1\" class=\"dataframe\">\n  <thead>\n    <tr>\n      <th></th>\n      <th>dateTime</th>\n      <th colspan=\"4\" halign=\"left\">e_coli</th>\n    </tr>\n    <tr>\n      <th></th>\n      <th>count</th>\n      <th>mean</th>\n      <th>median</th>\n      <th>var</th>\n      <th>std</th>\n    </tr>\n    <tr>\n      <th>dateTime</th>\n      <th></th>\n      <th></th>\n      <th></th>\n      <th></th>\n      <th></th>\n    </tr>\n  </thead>\n  <tbody>\n    <tr>\n      <th>1995</th>\n      <td>1</td>\n      <td>230.000000</td>\n      <td>230.0</td>\n      <td>NaN</td>\n      <td>NaN</td>\n    </tr>\n    <tr>\n      <th>1996</th>\n      <td>110</td>\n      <td>3811.272727</td>\n      <td>230.0</td>\n      <td>6.721589e+07</td>\n      <td>8198.529865</td>\n    </tr>\n    <tr>\n      <th>1997</th>\n      <td>877</td>\n      <td>3241.984036</td>\n      <td>230.0</td>\n      <td>4.768534e+07</td>\n      <td>6905.456974</td>\n    </tr>\n    <tr>\n      <th>1998</th>\n      <td>1079</td>\n      <td>2761.770158</td>\n      <td>230.0</td>\n      <td>4.063192e+07</td>\n      <td>6374.317506</td>\n    </tr>\n    <tr>\n      <th>1999</th>\n      <td>1309</td>\n      <td>2048.907563</td>\n      <td>230.0</td>\n      <td>2.911940e+07</td>\n      <td>5396.239356</td>\n    </tr>\n    <tr>\n      <th>2000</th>\n      <td>1473</td>\n      <td>2085.919891</td>\n      <td>230.0</td>\n      <td>2.527086e+07</td>\n      <td>5027.013304</td>\n    </tr>\n    <tr>\n      <th>2001</th>\n      <td>1497</td>\n      <td>1511.703407</td>\n      <td>230.0</td>\n      <td>1.341357e+07</td>\n      <td>3662.454537</td>\n    </tr>\n    <tr>\n      <th>2002</th>\n      <td>1488</td>\n      <td>1414.313725</td>\n      <td>230.0</td>\n      <td>1.288907e+07</td>\n      <td>3590.134776</td>\n    </tr>\n    <tr>\n      <th>2003</th>\n      <td>1652</td>\n      <td>1729.963680</td>\n      <td>130.0</td>\n      <td>1.791111e+07</td>\n      <td>4232.152206</td>\n    </tr>\n    <tr>\n      <th>2004</th>\n      <td>1689</td>\n      <td>2127.850799</td>\n      <td>110.0</td>\n      <td>2.309654e+07</td>\n      <td>4805.885566</td>\n    </tr>\n    <tr>\n      <th>2005</th>\n      <td>1643</td>\n      <td>1991.040779</td>\n      <td>80.0</td>\n      <td>2.138742e+07</td>\n      <td>4624.654006</td>\n    </tr>\n    <tr>\n      <th>2006</th>\n      <td>1632</td>\n      <td>1643.117942</td>\n      <td>70.0</td>\n      <td>1.751166e+07</td>\n      <td>4184.693044</td>\n    </tr>\n    <tr>\n      <th>2007</th>\n      <td>1671</td>\n      <td>1907.052127</td>\n      <td>80.0</td>\n      <td>2.047645e+07</td>\n      <td>4525.090980</td>\n    </tr>\n    <tr>\n      <th>2008</th>\n      <td>1621</td>\n      <td>1727.898640</td>\n      <td>130.0</td>\n      <td>1.638149e+07</td>\n      <td>4047.405428</td>\n    </tr>\n    <tr>\n      <th>2009</th>\n      <td>1657</td>\n      <td>1598.437690</td>\n      <td>80.0</td>\n      <td>1.631224e+07</td>\n      <td>4038.841458</td>\n    </tr>\n    <tr>\n      <th>2010</th>\n      <td>1627</td>\n      <td>1833.581716</td>\n      <td>130.0</td>\n      <td>1.812533e+07</td>\n      <td>4257.385262</td>\n    </tr>\n    <tr>\n      <th>2011</th>\n      <td>1544</td>\n      <td>1733.141192</td>\n      <td>230.0</td>\n      <td>1.668525e+07</td>\n      <td>4084.758692</td>\n    </tr>\n    <tr>\n      <th>2012</th>\n      <td>1457</td>\n      <td>1197.975292</td>\n      <td>230.0</td>\n      <td>8.648448e+06</td>\n      <td>2940.824402</td>\n    </tr>\n    <tr>\n      <th>2013</th>\n      <td>1544</td>\n      <td>1508.867422</td>\n      <td>230.0</td>\n      <td>1.241006e+07</td>\n      <td>3522.791284</td>\n    </tr>\n    <tr>\n      <th>2014</th>\n      <td>1454</td>\n      <td>1343.835420</td>\n      <td>146.0</td>\n      <td>1.674729e+07</td>\n      <td>4092.345387</td>\n    </tr>\n    <tr>\n      <th>2015</th>\n      <td>1695</td>\n      <td>2531.769440</td>\n      <td>175.0</td>\n      <td>3.638688e+07</td>\n      <td>6032.153935</td>\n    </tr>\n    <tr>\n      <th>2016</th>\n      <td>2090</td>\n      <td>2284.388325</td>\n      <td>122.0</td>\n      <td>3.291698e+07</td>\n      <td>5737.331788</td>\n    </tr>\n    <tr>\n      <th>2017</th>\n      <td>2057</td>\n      <td>2061.529412</td>\n      <td>98.0</td>\n      <td>3.009632e+07</td>\n      <td>5486.011214</td>\n    </tr>\n    <tr>\n      <th>2018</th>\n      <td>2135</td>\n      <td>2117.314286</td>\n      <td>122.0</td>\n      <td>2.980602e+07</td>\n      <td>5459.489405</td>\n    </tr>\n    <tr>\n      <th>2019</th>\n      <td>2506</td>\n      <td>1646.683160</td>\n      <td>86.0</td>\n      <td>2.326742e+07</td>\n      <td>4823.631101</td>\n    </tr>\n    <tr>\n      <th>2020</th>\n      <td>1022</td>\n      <td>1609.102740</td>\n      <td>84.5</td>\n      <td>2.443135e+07</td>\n      <td>4942.808058</td>\n    </tr>\n  </tbody>\n</table>\n</div>"
     },
     "metadata": {},
     "execution_count": 14
    }
   ],
   "source": [
    "summary_stats_year = df.groupby(df.dateTime.dt.year).agg({'dateTime': 'count', 'e_coli': ['mean', 'median', 'var', 'std']})\n",
    "summary_stats_year"
   ]
  },
  {
   "cell_type": "code",
   "execution_count": 13,
   "metadata": {},
   "outputs": [
    {
     "output_type": "execute_result",
     "data": {
      "text/plain": [
       "MultiIndex([('dateTime',  'count'),\n",
       "            (  'e_coli',   'mean'),\n",
       "            (  'e_coli', 'median'),\n",
       "            (  'e_coli',    'var'),\n",
       "            (  'e_coli',    'std')],\n",
       "           )"
      ]
     },
     "metadata": {},
     "execution_count": 13
    }
   ],
   "source": [
    "summary_stats_month = df.groupby(df.dateTime.dt.month).agg({'dateTime': 'count', 'e_coli': ['mean', 'median', 'var', 'std']})\n",
    "summary_stats_month.columns"
   ]
  },
  {
   "cell_type": "code",
   "execution_count": null,
   "metadata": {},
   "outputs": [],
   "source": []
  }
 ]
}